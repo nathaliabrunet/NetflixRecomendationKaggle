{
 "cells": [
  {
   "cell_type": "markdown",
   "metadata": {},
   "source": [
    "# Step 3 -  Machine Learning Models\n",
    "       Previsão da avaliação que um usuário daria a um filme que ainda não avaliou."
   ]
  },
  {
   "cell_type": "code",
   "execution_count": 79,
   "metadata": {},
   "outputs": [],
   "source": [
    "import pandas as pd\n",
    "import numpy as np\n",
    "\n",
    "from scipy import sparse\n",
    "import os\n",
    "from sklearn.metrics.pairwise import cosine_similarity\n",
    "\n",
    "from datetime import datetime\n",
    "import random\n",
    "\n",
    "import xgboost as xgb\n",
    "\n",
    "import matplotlib\n",
    "import matplotlib.pyplot as plt"
   ]
  },
  {
   "cell_type": "markdown",
   "metadata": {},
   "source": [
    "###### Função para extrair amostras de dados das matrizes esparsas criadas no step 2"
   ]
  },
  {
   "cell_type": "code",
   "execution_count": 89,
   "metadata": {},
   "outputs": [],
   "source": [
    "# Função para obter amostra da matriz esparsa\n",
    "def gera_amostra_matriz_esparsa(sparse_matrix, num_users, num_movies, path, verbose = True):\n",
    "\n",
    "    # Tupla: (row, col) e (rating) da matriz esparsa\n",
    "    row_ind, col_ind, ratings = sparse.find(sparse_matrix)\n",
    "    users = np.unique(row_ind)\n",
    "    movies = np.unique(col_ind)\n",
    "\n",
    "    # Random seed para reproduzir o processo aleatório\n",
    "    np.random.seed(15)\n",
    "    \n",
    "    # Amostras de usuários e filmes\n",
    "    sample_users = np.random.choice(users, num_users, replace = True)\n",
    "    sample_movies = np.random.choice(movies, num_movies, replace = True)\n",
    "    \n",
    "    # Gera a máscara booleana\n",
    "    mask = np.logical_and(np.isin(row_ind, sample_users), np.isin(col_ind, sample_movies))\n",
    "    \n",
    "    # Matriz esparsa com as amostras da matriz original\n",
    "    amostra_matriz_esparsa = sparse.csr_matrix((ratings[mask], (row_ind[mask], col_ind[mask])), \n",
    "                                               shape = (max(sample_users) + 1, max(sample_movies) + 1))\n",
    "    \n",
    "    # Salva em disco\n",
    "    print('Salvando em disco...')\n",
    "    sparse.save_npz(path, amostra_matriz_esparsa)\n",
    "    \n",
    "    if verbose:\n",
    "            print('Tarefa concluída.\\n')\n",
    "    \n",
    "    return amostra_matriz_esparsa"
   ]
  },
  {
   "cell_type": "markdown",
   "metadata": {},
   "source": [
    "#### Gerando Amostra de Dados de Treino"
   ]
  },
  {
   "cell_type": "code",
   "execution_count": 94,
   "metadata": {},
   "outputs": [
    {
     "name": "stdout",
     "output_type": "stream",
     "text": [
      "Salvando em disco...\n",
      "Tarefa concluída.\n",
      "\n",
      "Wall time: 1min 8s\n"
     ]
    }
   ],
   "source": [
    "%%time\n",
    "\n",
    "# matriz esparsa de treino gerada no step 2\n",
    "caminho_matriz_treino_original = \"archive/matriz_esparsa_treino.npz\"\n",
    "\n",
    "matriz_esparsa_treino_loaded = sparse.load_npz(caminho_matriz_treino_original)\n",
    "\n",
    "# Onde salvar a amostra\n",
    "path = 'archive/amostra_matriz_esparsa_treino.npz'\n",
    "\n",
    "# Obtemos avaliações de 10000 usuários a 1000 filmes na matriz esparsa de treino\n",
    "amostra_matriz_esparsa_treino = gera_amostra_matriz_esparsa(matriz_esparsa_treino_loaded, \n",
    "                                                            num_users = 10000, #define tamanho da amostra\n",
    "                                                            num_movies = 1000, \n",
    "                                                            path = path)"
   ]
  },
  {
   "cell_type": "markdown",
   "metadata": {},
   "source": [
    "#### Gerando Amostra de Dados de Teste"
   ]
  },
  {
   "cell_type": "code",
   "execution_count": 95,
   "metadata": {},
   "outputs": [
    {
     "name": "stdout",
     "output_type": "stream",
     "text": [
      "Salvando em disco...\n",
      "Tarefa concluída.\n",
      "\n",
      "Wall time: 16.3 s\n"
     ]
    }
   ],
   "source": [
    "%%time\n",
    "\n",
    "# matriz esparsa de treino gerada no step 2\n",
    "caminho_matriz_teste_original = \"archive/matriz_esparsa_teste.npz\"\n",
    "\n",
    "matriz_esparsa_teste_loaded = sparse.load_npz(caminho_matriz_teste_original)\n",
    "\n",
    "path = 'archive/amostra_matriz_esparsa_teste.npz'\n",
    "\n",
    "# Obtemos avaliações de 400 usuários a 40 filmes na matriz esparsa de treino\n",
    "amostra_matriz_esparsa_teste = gera_amostra_matriz_esparsa(matriz_esparsa_teste_loaded, \n",
    "                                                           num_users = 400, \n",
    "                                                           num_movies = 40,\n",
    "                                                           path = path)"
   ]
  },
  {
   "cell_type": "code",
   "execution_count": 97,
   "metadata": {},
   "outputs": [
    {
     "name": "stdout",
     "output_type": "stream",
     "text": [
      "Número de avaliações na matriz com amostras de treino: 112832\n",
      "Número de avaliações na matriz com amostras de teste: 169\n"
     ]
    }
   ],
   "source": [
    "# Resumo\n",
    "print('Número de avaliações na matriz com amostras de treino: {}'.format(amostra_matriz_esparsa_treino.count_nonzero()))\n",
    "print('Número de avaliações na matriz com amostras de teste: {}'.format(amostra_matriz_esparsa_teste.count_nonzero()))"
   ]
  },
  {
   "cell_type": "markdown",
   "metadata": {},
   "source": [
    "### Métricas Extraídas dos Dados\n",
    "\n",
    "Vamos verificar algumas métricas a partir dos dados. Nosso modelo vai prever a avaliação do usuário ao filme."
   ]
  },
  {
   "cell_type": "code",
   "execution_count": 98,
   "metadata": {},
   "outputs": [],
   "source": [
    "# Cria o dicionário para guardar análises\n",
    "amostra_medias_treino = dict()"
   ]
  },
  {
   "cell_type": "markdown",
   "metadata": {},
   "source": [
    "A função abaixo será usada para calcular a média de avaliações."
   ]
  },
  {
   "cell_type": "code",
   "execution_count": 99,
   "metadata": {},
   "outputs": [],
   "source": [
    "def calcula_media_avaliacoes(sparse_matrix, of_users):\n",
    "    '''\n",
    "    Se parâmetro \"of_users\" == True, o cálculo vai ser por usuários. Se False, por filme.\n",
    "    '''\n",
    "    \n",
    "    # Média de avaliações\n",
    "    # 1 representa o eixo de usuários\n",
    "    # 0 representa o eixo de filmes\n",
    "    ax = 1 if of_users else 0 \n",
    "\n",
    "    # Soma das avaliações\n",
    "    sum_of_ratings = sparse_matrix.sum(axis=ax).A1\n",
    "    \n",
    "    # Matriz booleana de avaliações (se um usuário avaliou ou não um filme)\n",
    "    is_rated = sparse_matrix != 0\n",
    "    \n",
    "    # Número de avaliações de cada usuário ou filme\n",
    "    no_of_ratings = is_rated.sum(axis = ax).A1\n",
    "    \n",
    "    # Ids da matriz esparsa, u de usuário e m de movie\n",
    "    u,m = sparse_matrix.shape\n",
    "    \n",
    "    # Dicionário de usuários e suas avaliações\n",
    "    media_avaliacoes = {i:sum_of_ratings[i] / no_of_ratings[i] \n",
    "                       for i in range(u if of_users else m) \n",
    "                       if no_of_ratings[i] != 0}\n",
    "\n",
    "    return media_avaliacoes"
   ]
  },
  {
   "cell_type": "code",
   "execution_count": 100,
   "metadata": {
    "scrolled": true
   },
   "outputs": [
    {
     "name": "stdout",
     "output_type": "stream",
     "text": [
      "  (301, 2699)\t4\n",
      "  (301, 3608)\t5\n",
      "  (301, 4310)\t2\n",
      "  (301, 4996)\t5\n",
      "  (301, 5047)\t3\n",
      "  (301, 5496)\t5\n",
      "  (301, 6034)\t3\n",
      "  (301, 6337)\t3\n",
      "  (301, 8881)\t4\n",
      "  (301, 10275)\t4\n",
      "  (301, 11022)\t1\n",
      "  (301, 14109)\t4\n",
      "  (301, 15183)\t5\n",
      "  (301, 16293)\t3\n",
      "  (462, 191)\t2\n",
      "  (462, 1307)\t2\n",
      "  (462, 1703)\t3\n",
      "  (462, 2209)\t5\n",
      "  (462, 2699)\t2\n",
      "  (462, 2874)\t2\n",
      "  (462, 3526)\t3\n",
      "  (462, 3756)\t3\n",
      "  (462, 4914)\t2\n",
      "  (462, 5496)\t2\n",
      "  (462, 5601)\t3\n",
      "  :\t:\n",
      "  (2649097, 978)\t5\n",
      "  (2649097, 3611)\t3\n",
      "  (2649097, 3756)\t2\n",
      "  (2649097, 5516)\t3\n",
      "  (2649097, 5662)\t5\n",
      "  (2649097, 9048)\t3\n",
      "  (2649097, 9170)\t5\n",
      "  (2649097, 10729)\t5\n",
      "  (2649097, 11022)\t1\n",
      "  (2649097, 11820)\t1\n",
      "  (2649097, 13856)\t5\n",
      "  (2649097, 16740)\t3\n",
      "  (2649375, 191)\t4\n",
      "  (2649375, 1307)\t3\n",
      "  (2649375, 3427)\t4\n",
      "  (2649375, 3756)\t3\n",
      "  (2649375, 11443)\t5\n",
      "  (2649375, 12161)\t4\n",
      "  (2649375, 14240)\t4\n",
      "  (2649375, 14456)\t3\n",
      "  (2649375, 14550)\t5\n",
      "  (2649375, 14855)\t4\n",
      "  (2649375, 15424)\t5\n",
      "  (2649375, 16068)\t4\n",
      "  (2649375, 16452)\t5\n"
     ]
    }
   ],
   "source": [
    "print(amostra_matriz_esparsa_treino)"
   ]
  },
  {
   "cell_type": "markdown",
   "metadata": {},
   "source": [
    "Média global das avaliações dos filmes:"
   ]
  },
  {
   "cell_type": "code",
   "execution_count": 101,
   "metadata": {},
   "outputs": [
    {
     "data": {
      "text/plain": [
       "{'global': 3.596151800907544}"
      ]
     },
     "execution_count": 101,
     "metadata": {},
     "output_type": "execute_result"
    }
   ],
   "source": [
    "# Guardando média global no dicionário\n",
    "media_global = amostra_matriz_esparsa_treino.sum() / amostra_matriz_esparsa_treino.count_nonzero()\n",
    "amostra_medias_treino['global'] = media_global\n",
    "amostra_medias_treino"
   ]
  },
  {
   "cell_type": "markdown",
   "metadata": {},
   "source": [
    "Média de avaliação por usuário:"
   ]
  },
  {
   "cell_type": "code",
   "execution_count": 102,
   "metadata": {},
   "outputs": [],
   "source": [
    "# Calcula a média de avaliação dos usuários\n",
    "amostra_medias_treino['usuario'] = calcula_media_avaliacoes(amostra_matriz_esparsa_treino, of_users = True) "
   ]
  },
  {
   "cell_type": "code",
   "execution_count": 103,
   "metadata": {},
   "outputs": [
    {
     "data": {
      "text/plain": [
       "301"
      ]
     },
     "execution_count": 103,
     "metadata": {},
     "output_type": "execute_result"
    }
   ],
   "source": [
    "# Vamos extrair um dos usuários do dicionário de filmes (o objetivo aqui é apenas automatizar o processo)\n",
    "um_usuario = [a for a, b in amostra_medias_treino['usuario'].items()][0]\n",
    "um_usuario"
   ]
  },
  {
   "cell_type": "code",
   "execution_count": 104,
   "metadata": {},
   "outputs": [
    {
     "name": "stdout",
     "output_type": "stream",
     "text": [
      "Média de Avaliação do Usuário 301: 3.642857142857143\n"
     ]
    }
   ],
   "source": [
    "# Print\n",
    "print('Média de Avaliação do Usuário ' + str(um_usuario) + ':', amostra_medias_treino['usuario'][um_usuario])"
   ]
  },
  {
   "cell_type": "markdown",
   "metadata": {},
   "source": [
    "Média de avaliação por filme:"
   ]
  },
  {
   "cell_type": "code",
   "execution_count": 105,
   "metadata": {},
   "outputs": [],
   "source": [
    "# Calcula a média de avaliação dos filmes\n",
    "amostra_medias_treino['filme'] =  calcula_media_ratings(amostra_matriz_esparsa_treino, of_users = False)"
   ]
  },
  {
   "cell_type": "code",
   "execution_count": 106,
   "metadata": {},
   "outputs": [
    {
     "data": {
      "text/plain": [
       "7"
      ]
     },
     "execution_count": 106,
     "metadata": {},
     "output_type": "execute_result"
    }
   ],
   "source": [
    "# Vamos extrair um dos filmes do dicionário de filmes (o objetivo aqui é apenas automatizar o processo)\n",
    "um_filme = [a for a, b in amostra_medias_treino['filme'].items()][0]\n",
    "um_filme"
   ]
  },
  {
   "cell_type": "code",
   "execution_count": 107,
   "metadata": {},
   "outputs": [
    {
     "name": "stdout",
     "output_type": "stream",
     "text": [
      "Média de Avaliação do Filme 7: 1.0\n"
     ]
    }
   ],
   "source": [
    "print('Média de Avaliação do Filme ' + str(um_filme) + ':', amostra_medias_treino['filme'][um_filme])"
   ]
  },
  {
   "cell_type": "markdown",
   "metadata": {},
   "source": [
    "## Variáveis utilizadas na implementação do modelo:"
   ]
  },
  {
   "cell_type": "markdown",
   "metadata": {},
   "source": [
    "### Inputs:\n",
    "\n",
    "- **GAvg** : Média global das avaliações\n",
    "\n",
    "\n",
    "- **Avaliação de usuários semelhantes**:\n",
    "    - sur1, sur2, sur3, sur4, sur5 (5 principais usuários similares a cada usuário que avaliou um filme)\n",
    "    \n",
    "\n",
    "- **Filmes semelhantes avaliados por um usuário**:\n",
    "    - smr1, smr2, smr3, smr4, smr5 (5 principais filmes similares a cada filme avaliado)\n",
    "\n",
    "\n",
    "- **UAvg** : Média de avaliações dos usuários\n",
    "\n",
    "\n",
    "- **MAvg** : Média de avaliação do filme\n",
    "\n",
    "\n",
    "### Output: \n",
    "\n",
    "- **avaliação** : Avaliação do filme dada por um usuário"
   ]
  },
  {
   "cell_type": "markdown",
   "metadata": {},
   "source": [
    "### Preparando os Dados de Treino Para o Modelo de Regressão"
   ]
  },
  {
   "cell_type": "code",
   "execution_count": 108,
   "metadata": {},
   "outputs": [
    {
     "data": {
      "text/plain": [
       "<2649376x17673 sparse matrix of type '<class 'numpy.int64'>'\n",
       "\twith 112832 stored elements in Compressed Sparse Row format>"
      ]
     },
     "execution_count": 108,
     "metadata": {},
     "output_type": "execute_result"
    }
   ],
   "source": [
    "amostra_matriz_esparsa_treino"
   ]
  },
  {
   "cell_type": "code",
   "execution_count": 109,
   "metadata": {},
   "outputs": [],
   "source": [
    "# Extraindo os dados da matriz de amostras\n",
    "amostra_usuarios_treino, amostra_filmes_treino, amostra_avaliacoes_treino = sparse.find(amostra_matriz_esparsa_treino)"
   ]
  },
  {
   "cell_type": "code",
   "execution_count": 110,
   "metadata": {},
   "outputs": [
    {
     "data": {
      "text/plain": [
       "array([ 919153, 1901461, 2105602, ..., 2633797, 2642973, 2646207],\n",
       "      dtype=int32)"
      ]
     },
     "execution_count": 110,
     "metadata": {},
     "output_type": "execute_result"
    }
   ],
   "source": [
    "amostra_usuarios_treino"
   ]
  },
  {
   "cell_type": "code",
   "execution_count": 111,
   "metadata": {},
   "outputs": [
    {
     "data": {
      "text/plain": [
       "array([    7,     7,     7, ..., 17672, 17672, 17672], dtype=int32)"
      ]
     },
     "execution_count": 111,
     "metadata": {},
     "output_type": "execute_result"
    }
   ],
   "source": [
    "amostra_filmes_treino"
   ]
  },
  {
   "cell_type": "code",
   "execution_count": 112,
   "metadata": {},
   "outputs": [
    {
     "data": {
      "text/plain": [
       "112832"
      ]
     },
     "execution_count": 112,
     "metadata": {},
     "output_type": "execute_result"
    }
   ],
   "source": [
    "len(amostra_avaliacoes_treino)"
   ]
  },
  {
   "cell_type": "markdown",
   "metadata": {},
   "source": [
    "##### Na criação da amostra foi definido avaliações de 10000 usuários a 1000 filmes na matriz esparsa de treino. Então essa etapa demora um pouco pra rodar"
   ]
  },
  {
   "cell_type": "code",
   "execution_count": null,
   "metadata": {},
   "outputs": [],
   "source": [
    "%%time\n",
    "start = datetime.now()\n",
    "# Verificamos se o arquivo já existe\n",
    "if os.path.isfile('archive/dados_treino_reg.csv'):\n",
    "    print(\"O arquivo já existe e não precisamos criar movamente...\" )\n",
    "else:\n",
    "    print('Preparando {} tuplas para o dataset..\\n'.format(len(amostra_medias_treino)))\n",
    "    with open('archive/dados_treino_reg.csv', mode = 'w') as reg_data_file:\n",
    "        count = 0\n",
    "        for (usuario, filme, avaliacao) in zip(amostra_usuarios_treino, amostra_filmes_treino, amostra_avaliacoes_treino):\n",
    "             \n",
    "            ###### Avaliação de um \"filme\" por usuários similares ao usuário corrente ######\n",
    "            \n",
    "            # Calcula usuário similar ao usuário corrente        \n",
    "            user_sim = cosine_similarity(amostra_matriz_esparsa_treino[usuario], \n",
    "                                         amostra_matriz_esparsa_treino).ravel()\n",
    "            \n",
    "            # Obtém top users\n",
    "            top_sim_users = user_sim.argsort()[::-1][1:] \n",
    "            \n",
    "            # Obtém avaliações de usuários similares \n",
    "            top_ratings = amostra_matriz_esparsa_treino[top_sim_users, filme].toarray().ravel()\n",
    "            \n",
    "            # Top usuários similares até 5\n",
    "            top_sim_users_ratings = list(top_ratings[top_ratings != 0][:5])\n",
    "            top_sim_users_ratings.extend([amostra_medias_treino['filme'][filme]]*(5 - len(top_sim_users_ratings))) \n",
    "\n",
    "            ##### Avaliações por usuário para filmes similares ao filme corrente #####\n",
    "            \n",
    "            # Calcula filmes similares ao filme corrente       \n",
    "            movie_sim = cosine_similarity(amostra_matriz_esparsa_treino[:,filme].T, \n",
    "                                          amostra_matriz_esparsa_treino.T).ravel()\n",
    "            \n",
    "            # Top filmes\n",
    "            top_sim_movies = movie_sim.argsort()[::-1][1:] \n",
    "            \n",
    "            # Obtém avaliações do filme mais similar para o usuário corrente\n",
    "            top_ratings = amostra_matriz_esparsa_treino[usuario, top_sim_movies].toarray().ravel()\n",
    "            \n",
    "            # Top usuários similares até 5\n",
    "            top_sim_movies_ratings = list(top_ratings[top_ratings != 0][:5])\n",
    "            top_sim_movies_ratings.extend([amostra_medias_treino['usuario'][usuario]] * (5-len(top_sim_movies_ratings))) \n",
    "\n",
    "            ##### Prepara a linha que será armazenada no arquivo #####\n",
    "            row = list()\n",
    "            row.append(usuario)\n",
    "            row.append(filme)\n",
    "            \n",
    "            # Adicionamos outros atributos \n",
    "            row.append(amostra_medias_treino['global']) \n",
    "            row.extend(top_sim_users_ratings)\n",
    "            row.extend(top_sim_movies_ratings)\n",
    "            row.append(amostra_medias_treino['usuario'][usuario])\n",
    "            row.append(amostra_medias_treino['filme'][filme])\n",
    "\n",
    "            row.append(avaliacao)\n",
    "            count = count + 1\n",
    "            \n",
    "            #if count == 10:\n",
    "            #    break\n",
    "\n",
    "            reg_data_file.write(','.join(map(str, row)))\n",
    "            reg_data_file.write('\\n')        \n",
    "            if (count)%10000 == 0:\n",
    "                print(\"Concluído para {} linhas----- {}\".format(count, datetime.now() - start))"
   ]
  },
  {
   "cell_type": "code",
   "execution_count": 118,
   "metadata": {},
   "outputs": [],
   "source": [
    "df_dados_treino_reg = pd.read_csv('archive/dados_treino_reg.csv', \n",
    "                                  names = ['usuario', 'filme', \n",
    "                                           'GAvg', \n",
    "                                           'sur1','sur2','sur3', 'sur4', 'sur5',\n",
    "                                           'smr1', 'smr2', 'smr3', 'smr4', 'smr5',\n",
    "                                           'UAvg','MAvg', \n",
    "                                           'avaliacao'],\n",
    "                                  header = None)"
   ]
  },
  {
   "cell_type": "code",
   "execution_count": 119,
   "metadata": {},
   "outputs": [
    {
     "data": {
      "text/html": [
       "<div>\n",
       "<style scoped>\n",
       "    .dataframe tbody tr th:only-of-type {\n",
       "        vertical-align: middle;\n",
       "    }\n",
       "\n",
       "    .dataframe tbody tr th {\n",
       "        vertical-align: top;\n",
       "    }\n",
       "\n",
       "    .dataframe thead th {\n",
       "        text-align: right;\n",
       "    }\n",
       "</style>\n",
       "<table border=\"1\" class=\"dataframe\">\n",
       "  <thead>\n",
       "    <tr style=\"text-align: right;\">\n",
       "      <th></th>\n",
       "      <th>usuario</th>\n",
       "      <th>filme</th>\n",
       "      <th>GAvg</th>\n",
       "      <th>sur1</th>\n",
       "      <th>sur2</th>\n",
       "      <th>sur3</th>\n",
       "      <th>sur4</th>\n",
       "      <th>sur5</th>\n",
       "      <th>smr1</th>\n",
       "      <th>smr2</th>\n",
       "      <th>smr3</th>\n",
       "      <th>smr4</th>\n",
       "      <th>smr5</th>\n",
       "      <th>UAvg</th>\n",
       "      <th>MAvg</th>\n",
       "      <th>avaliacao</th>\n",
       "    </tr>\n",
       "  </thead>\n",
       "  <tbody>\n",
       "    <tr>\n",
       "      <th>0</th>\n",
       "      <td>919153</td>\n",
       "      <td>7</td>\n",
       "      <td>3.596152</td>\n",
       "      <td>1.0</td>\n",
       "      <td>1.0</td>\n",
       "      <td>1.0</td>\n",
       "      <td>1.0</td>\n",
       "      <td>1.0</td>\n",
       "      <td>4.0</td>\n",
       "      <td>3.0</td>\n",
       "      <td>2.0</td>\n",
       "      <td>5.0</td>\n",
       "      <td>2.0</td>\n",
       "      <td>2.714286</td>\n",
       "      <td>1.0</td>\n",
       "      <td>1</td>\n",
       "    </tr>\n",
       "    <tr>\n",
       "      <th>1</th>\n",
       "      <td>1901461</td>\n",
       "      <td>7</td>\n",
       "      <td>3.596152</td>\n",
       "      <td>1.0</td>\n",
       "      <td>1.0</td>\n",
       "      <td>1.0</td>\n",
       "      <td>1.0</td>\n",
       "      <td>1.0</td>\n",
       "      <td>3.0</td>\n",
       "      <td>5.0</td>\n",
       "      <td>5.0</td>\n",
       "      <td>5.0</td>\n",
       "      <td>5.0</td>\n",
       "      <td>3.545455</td>\n",
       "      <td>1.0</td>\n",
       "      <td>1</td>\n",
       "    </tr>\n",
       "    <tr>\n",
       "      <th>2</th>\n",
       "      <td>2105602</td>\n",
       "      <td>7</td>\n",
       "      <td>3.596152</td>\n",
       "      <td>1.0</td>\n",
       "      <td>1.0</td>\n",
       "      <td>1.0</td>\n",
       "      <td>1.0</td>\n",
       "      <td>1.0</td>\n",
       "      <td>1.0</td>\n",
       "      <td>5.0</td>\n",
       "      <td>4.0</td>\n",
       "      <td>4.0</td>\n",
       "      <td>3.0</td>\n",
       "      <td>3.548780</td>\n",
       "      <td>1.0</td>\n",
       "      <td>1</td>\n",
       "    </tr>\n",
       "    <tr>\n",
       "      <th>3</th>\n",
       "      <td>1773304</td>\n",
       "      <td>10</td>\n",
       "      <td>3.596152</td>\n",
       "      <td>1.0</td>\n",
       "      <td>2.0</td>\n",
       "      <td>2.0</td>\n",
       "      <td>2.0</td>\n",
       "      <td>2.0</td>\n",
       "      <td>4.0</td>\n",
       "      <td>5.0</td>\n",
       "      <td>3.0</td>\n",
       "      <td>4.0</td>\n",
       "      <td>4.0</td>\n",
       "      <td>3.593750</td>\n",
       "      <td>2.0</td>\n",
       "      <td>3</td>\n",
       "    </tr>\n",
       "    <tr>\n",
       "      <th>4</th>\n",
       "      <td>2291127</td>\n",
       "      <td>10</td>\n",
       "      <td>3.596152</td>\n",
       "      <td>3.0</td>\n",
       "      <td>2.0</td>\n",
       "      <td>2.0</td>\n",
       "      <td>2.0</td>\n",
       "      <td>2.0</td>\n",
       "      <td>1.0</td>\n",
       "      <td>2.0</td>\n",
       "      <td>4.0</td>\n",
       "      <td>4.0</td>\n",
       "      <td>4.0</td>\n",
       "      <td>3.307692</td>\n",
       "      <td>2.0</td>\n",
       "      <td>1</td>\n",
       "    </tr>\n",
       "  </tbody>\n",
       "</table>\n",
       "</div>"
      ],
      "text/plain": [
       "   usuario  filme      GAvg  sur1  sur2  sur3  sur4  sur5  smr1  smr2  smr3  \\\n",
       "0   919153      7  3.596152   1.0   1.0   1.0   1.0   1.0   4.0   3.0   2.0   \n",
       "1  1901461      7  3.596152   1.0   1.0   1.0   1.0   1.0   3.0   5.0   5.0   \n",
       "2  2105602      7  3.596152   1.0   1.0   1.0   1.0   1.0   1.0   5.0   4.0   \n",
       "3  1773304     10  3.596152   1.0   2.0   2.0   2.0   2.0   4.0   5.0   3.0   \n",
       "4  2291127     10  3.596152   3.0   2.0   2.0   2.0   2.0   1.0   2.0   4.0   \n",
       "\n",
       "   smr4  smr5      UAvg  MAvg  avaliacao  \n",
       "0   5.0   2.0  2.714286   1.0          1  \n",
       "1   5.0   5.0  3.545455   1.0          1  \n",
       "2   4.0   3.0  3.548780   1.0          1  \n",
       "3   4.0   4.0  3.593750   2.0          3  \n",
       "4   4.0   4.0  3.307692   2.0          1  "
      ]
     },
     "execution_count": 119,
     "metadata": {},
     "output_type": "execute_result"
    }
   ],
   "source": [
    "df_dados_treino_reg.head()"
   ]
  },
  {
   "cell_type": "code",
   "execution_count": 120,
   "metadata": {},
   "outputs": [
    {
     "data": {
      "text/plain": [
       "(10000, 16)"
      ]
     },
     "execution_count": 120,
     "metadata": {},
     "output_type": "execute_result"
    }
   ],
   "source": [
    "df_dados_treino_reg.shape"
   ]
  },
  {
   "cell_type": "code",
   "execution_count": 116,
   "metadata": {},
   "outputs": [
    {
     "data": {
      "text/plain": [
       "(1010, 16)"
      ]
     },
     "execution_count": 116,
     "metadata": {},
     "output_type": "execute_result"
    }
   ],
   "source": [
    "df_dados_treino_reg.shape"
   ]
  },
  {
   "cell_type": "markdown",
   "metadata": {},
   "source": [
    "### Mesma coisa pra Teste"
   ]
  },
  {
   "cell_type": "markdown",
   "metadata": {},
   "source": [
    "Roda um mais rápido pq a amostra é menor q a de treino, 400 usuários a 40 filmes na matriz esparsa de teste"
   ]
  },
  {
   "cell_type": "code",
   "execution_count": 121,
   "metadata": {},
   "outputs": [
    {
     "data": {
      "text/plain": [
       "<2647099x17593 sparse matrix of type '<class 'numpy.int64'>'\n",
       "\twith 169 stored elements in Compressed Sparse Row format>"
      ]
     },
     "execution_count": 121,
     "metadata": {},
     "output_type": "execute_result"
    }
   ],
   "source": [
    "amostra_matriz_esparsa_teste"
   ]
  },
  {
   "cell_type": "code",
   "execution_count": 122,
   "metadata": {},
   "outputs": [],
   "source": [
    "# Extraindo os dados da matriz de amostras\n",
    "amostra_usuarios_teste, amostra_filmes_teste, amostra_avaliacoes_teste = sparse.find(amostra_matriz_esparsa_teste)"
   ]
  },
  {
   "cell_type": "code",
   "execution_count": 123,
   "metadata": {},
   "outputs": [
    {
     "name": "stdout",
     "output_type": "stream",
     "text": [
      "Preparando 169 tuplas para o dataset..\n",
      "\n",
      "Wall time: 46.9 s\n"
     ]
    }
   ],
   "source": [
    "%%time\n",
    "start = datetime.now()\n",
    "if os.path.isfile('archive/dados_teste_reg.csv'):\n",
    "    print(\"O arquivo já existe e não precisamos criar movamente...\")\n",
    "else:\n",
    "\n",
    "    print('Preparando {} tuplas para o dataset..\\n'.format(len(amostra_avaliacoes_teste)))\n",
    "    with open('archive/dados_teste_reg.csv', mode='w') as reg_data_file:\n",
    "        count = 0 \n",
    "        for (usuario, filme, avaliacao)  in zip(amostra_usuarios_teste, amostra_filmes_teste, amostra_avaliacoes_teste):\n",
    "            st = datetime.now()\n",
    "\n",
    "            # Similaridade de usuários\n",
    "            try:\n",
    "                user_sim = cosine_similarity(amostra_matriz_esparsa_treino[usuario], \n",
    "                                             amostra_matriz_esparsa_treino).ravel()\n",
    "                \n",
    "                top_sim_users = user_sim.argsort()[::-1][1:] \n",
    "                top_ratings = amostra_matriz_esparsa_treino[top_sim_users, filme].toarray().ravel()\n",
    "                top_sim_users_ratings = list(top_ratings[top_ratings != 0][:5])\n",
    "                top_sim_users_ratings.extend([amostra_medias_treino['filme'][filme]]*(5 - len(top_sim_users_ratings)))\n",
    "\n",
    "            except (IndexError, KeyError):\n",
    "                top_sim_users_ratings.extend([amostra_medias_treino['global']]*(5 - len(top_sim_users_ratings)))\n",
    "            except:\n",
    "                print(usuario, filme)\n",
    "                raise\n",
    "\n",
    "            # Similaridade de filmes\n",
    "            try:\n",
    "                movie_sim = cosine_similarity(amostra_matriz_esparsa_treino[:,filme].T, \n",
    "                                              amostra_matriz_esparsa_treino.T).ravel()\n",
    "                \n",
    "                top_sim_movies = movie_sim.argsort()[::-1][1:] \n",
    "                top_ratings = amostra_matriz_esparsa_treino[usuario, top_sim_movies].toarray().ravel()\n",
    "                top_sim_movies_ratings = list(top_ratings[top_ratings != 0][:5])\n",
    "                top_sim_movies_ratings.extend([amostra_medias_treino['usuario'][usuario]]*(5-len(top_sim_movies_ratings))) \n",
    "            except (IndexError, KeyError):\n",
    "                top_sim_movies_ratings.extend([amostra_medias_treino['global']]*(5-len(top_sim_movies_ratings)))\n",
    "            except :\n",
    "                raise\n",
    "\n",
    "            # Prepara os dados para gravar no arquivo\n",
    "            row = list()\n",
    "            row.append(usuario)\n",
    "            row.append(filme)\n",
    "            row.append(amostra_medias_treino['global']) \n",
    "            row.extend(top_sim_users_ratings)\n",
    "            row.extend(top_sim_movies_ratings)\n",
    "\n",
    "            try:\n",
    "                row.append(amostra_medias_treino['usuario'][usuario])\n",
    "            except KeyError:\n",
    "                row.append(amostra_medias_treino['global'])\n",
    "            except:\n",
    "                raise\n",
    "\n",
    "            try:\n",
    "                row.append(amostra_medias_treino['filme'][filme])\n",
    "            except KeyError:\n",
    "                row.append(amostra_medias_treino['global'])\n",
    "            except:\n",
    "                raise\n",
    "\n",
    "            row.append(avaliacao)\n",
    "            \n",
    "            count = count + 1\n",
    "            \n",
    "            #if count == 5:\n",
    "            #    break\n",
    "    \n",
    "            reg_data_file.write(','.join(map(str, row)))\n",
    "            reg_data_file.write('\\n')        \n",
    "            if (count)%1000 == 0:\n",
    "                print(\"Concluído em {} linhas----- {}\".format(count, datetime.now() - start))"
   ]
  },
  {
   "cell_type": "code",
   "execution_count": 124,
   "metadata": {},
   "outputs": [],
   "source": [
    "# Gera o dataset de teste\n",
    "df_dados_teste_reg = pd.read_csv('archive/dados_teste_reg.csv', names = ['usuario', 'filme', \n",
    "                                                                       'GAvg', \n",
    "                                                                       'sur1','sur2','sur3', 'sur4', 'sur5',\n",
    "                                                                       'smr1', 'smr2', 'smr3', 'smr4', 'smr5',\n",
    "                                                                       'UAvg','MAvg', \n",
    "                                                                       'avaliacao'],\n",
    "                                 header = None)"
   ]
  },
  {
   "cell_type": "code",
   "execution_count": 125,
   "metadata": {},
   "outputs": [
    {
     "data": {
      "text/html": [
       "<div>\n",
       "<style scoped>\n",
       "    .dataframe tbody tr th:only-of-type {\n",
       "        vertical-align: middle;\n",
       "    }\n",
       "\n",
       "    .dataframe tbody tr th {\n",
       "        vertical-align: top;\n",
       "    }\n",
       "\n",
       "    .dataframe thead th {\n",
       "        text-align: right;\n",
       "    }\n",
       "</style>\n",
       "<table border=\"1\" class=\"dataframe\">\n",
       "  <thead>\n",
       "    <tr style=\"text-align: right;\">\n",
       "      <th></th>\n",
       "      <th>usuario</th>\n",
       "      <th>filme</th>\n",
       "      <th>GAvg</th>\n",
       "      <th>sur1</th>\n",
       "      <th>sur2</th>\n",
       "      <th>sur3</th>\n",
       "      <th>sur4</th>\n",
       "      <th>sur5</th>\n",
       "      <th>smr1</th>\n",
       "      <th>smr2</th>\n",
       "      <th>smr3</th>\n",
       "      <th>smr4</th>\n",
       "      <th>smr5</th>\n",
       "      <th>UAvg</th>\n",
       "      <th>MAvg</th>\n",
       "      <th>avaliacao</th>\n",
       "    </tr>\n",
       "  </thead>\n",
       "  <tbody>\n",
       "    <tr>\n",
       "      <th>0</th>\n",
       "      <td>95062</td>\n",
       "      <td>607</td>\n",
       "      <td>3.596152</td>\n",
       "      <td>3.596152</td>\n",
       "      <td>3.596152</td>\n",
       "      <td>3.596152</td>\n",
       "      <td>3.596152</td>\n",
       "      <td>3.596152</td>\n",
       "      <td>3.596152</td>\n",
       "      <td>3.596152</td>\n",
       "      <td>3.596152</td>\n",
       "      <td>3.596152</td>\n",
       "      <td>3.596152</td>\n",
       "      <td>3.596152</td>\n",
       "      <td>3.596152</td>\n",
       "      <td>4</td>\n",
       "    </tr>\n",
       "    <tr>\n",
       "      <th>1</th>\n",
       "      <td>214729</td>\n",
       "      <td>607</td>\n",
       "      <td>3.596152</td>\n",
       "      <td>3.596152</td>\n",
       "      <td>3.596152</td>\n",
       "      <td>3.596152</td>\n",
       "      <td>3.596152</td>\n",
       "      <td>3.596152</td>\n",
       "      <td>3.596152</td>\n",
       "      <td>3.596152</td>\n",
       "      <td>3.596152</td>\n",
       "      <td>3.596152</td>\n",
       "      <td>3.596152</td>\n",
       "      <td>3.596152</td>\n",
       "      <td>3.596152</td>\n",
       "      <td>4</td>\n",
       "    </tr>\n",
       "    <tr>\n",
       "      <th>2</th>\n",
       "      <td>253859</td>\n",
       "      <td>607</td>\n",
       "      <td>3.596152</td>\n",
       "      <td>3.596152</td>\n",
       "      <td>3.596152</td>\n",
       "      <td>3.596152</td>\n",
       "      <td>3.596152</td>\n",
       "      <td>3.596152</td>\n",
       "      <td>3.596152</td>\n",
       "      <td>3.596152</td>\n",
       "      <td>3.596152</td>\n",
       "      <td>3.596152</td>\n",
       "      <td>3.596152</td>\n",
       "      <td>3.596152</td>\n",
       "      <td>3.596152</td>\n",
       "      <td>2</td>\n",
       "    </tr>\n",
       "    <tr>\n",
       "      <th>3</th>\n",
       "      <td>271420</td>\n",
       "      <td>607</td>\n",
       "      <td>3.596152</td>\n",
       "      <td>3.596152</td>\n",
       "      <td>3.596152</td>\n",
       "      <td>3.596152</td>\n",
       "      <td>3.596152</td>\n",
       "      <td>3.596152</td>\n",
       "      <td>3.596152</td>\n",
       "      <td>3.596152</td>\n",
       "      <td>3.596152</td>\n",
       "      <td>3.596152</td>\n",
       "      <td>3.596152</td>\n",
       "      <td>3.596152</td>\n",
       "      <td>3.596152</td>\n",
       "      <td>4</td>\n",
       "    </tr>\n",
       "    <tr>\n",
       "      <th>4</th>\n",
       "      <td>381954</td>\n",
       "      <td>607</td>\n",
       "      <td>3.596152</td>\n",
       "      <td>3.596152</td>\n",
       "      <td>3.596152</td>\n",
       "      <td>3.596152</td>\n",
       "      <td>3.596152</td>\n",
       "      <td>3.596152</td>\n",
       "      <td>3.596152</td>\n",
       "      <td>3.596152</td>\n",
       "      <td>3.596152</td>\n",
       "      <td>3.596152</td>\n",
       "      <td>3.596152</td>\n",
       "      <td>3.596152</td>\n",
       "      <td>3.596152</td>\n",
       "      <td>5</td>\n",
       "    </tr>\n",
       "  </tbody>\n",
       "</table>\n",
       "</div>"
      ],
      "text/plain": [
       "   usuario  filme      GAvg      sur1      sur2      sur3      sur4      sur5  \\\n",
       "0    95062    607  3.596152  3.596152  3.596152  3.596152  3.596152  3.596152   \n",
       "1   214729    607  3.596152  3.596152  3.596152  3.596152  3.596152  3.596152   \n",
       "2   253859    607  3.596152  3.596152  3.596152  3.596152  3.596152  3.596152   \n",
       "3   271420    607  3.596152  3.596152  3.596152  3.596152  3.596152  3.596152   \n",
       "4   381954    607  3.596152  3.596152  3.596152  3.596152  3.596152  3.596152   \n",
       "\n",
       "       smr1      smr2      smr3      smr4      smr5      UAvg      MAvg  \\\n",
       "0  3.596152  3.596152  3.596152  3.596152  3.596152  3.596152  3.596152   \n",
       "1  3.596152  3.596152  3.596152  3.596152  3.596152  3.596152  3.596152   \n",
       "2  3.596152  3.596152  3.596152  3.596152  3.596152  3.596152  3.596152   \n",
       "3  3.596152  3.596152  3.596152  3.596152  3.596152  3.596152  3.596152   \n",
       "4  3.596152  3.596152  3.596152  3.596152  3.596152  3.596152  3.596152   \n",
       "\n",
       "   avaliacao  \n",
       "0          4  \n",
       "1          4  \n",
       "2          2  \n",
       "3          4  \n",
       "4          5  "
      ]
     },
     "execution_count": 125,
     "metadata": {},
     "output_type": "execute_result"
    }
   ],
   "source": [
    "df_dados_teste_reg.head()"
   ]
  },
  {
   "cell_type": "code",
   "execution_count": 127,
   "metadata": {},
   "outputs": [
    {
     "data": {
      "text/plain": [
       "(169, 16)"
      ]
     },
     "execution_count": 127,
     "metadata": {},
     "output_type": "execute_result"
    }
   ],
   "source": [
    "df_dados_teste_reg.shape"
   ]
  },
  {
   "cell_type": "code",
   "execution_count": 128,
   "metadata": {},
   "outputs": [
    {
     "data": {
      "text/plain": [
       "16"
      ]
     },
     "execution_count": 128,
     "metadata": {},
     "output_type": "execute_result"
    }
   ],
   "source": [
    "len(df_dados_treino_reg.columns)"
   ]
  },
  {
   "cell_type": "code",
   "execution_count": 129,
   "metadata": {},
   "outputs": [
    {
     "data": {
      "text/plain": [
       "16"
      ]
     },
     "execution_count": 129,
     "metadata": {},
     "output_type": "execute_result"
    }
   ],
   "source": [
    "len(df_dados_teste_reg.columns)"
   ]
  },
  {
   "cell_type": "markdown",
   "metadata": {},
   "source": [
    "### Modelo"
   ]
  },
  {
   "cell_type": "code",
   "execution_count": 130,
   "metadata": {},
   "outputs": [],
   "source": [
    "# Dicionários para avaliação do modelo\n",
    "models_evaluation_train = dict()\n",
    "models_evaluation_test = dict()"
   ]
  },
  {
   "cell_type": "code",
   "execution_count": 131,
   "metadata": {},
   "outputs": [],
   "source": [
    "# Função para o cálculo do erro do modelo\n",
    "def calcula_metricas(y_true, y_pred):\n",
    "    rmse = np.sqrt(np.mean([ (y_true[i] - y_pred[i])**2 for i in range(len(y_pred)) ]))\n",
    "    mape = np.mean(np.abs( (y_true - y_pred)/y_true )) * 100\n",
    "    return rmse, mape"
   ]
  },
  {
   "cell_type": "code",
   "execution_count": 132,
   "metadata": {},
   "outputs": [],
   "source": [
    "# Função para treino e teste do modelo\n",
    "def executa_modelo_xgboost(modelo, x_train, y_train, x_test, y_test, verbose = True):\n",
    "\n",
    "    # Dicionários\n",
    "    train_results = dict()\n",
    "    test_results = dict()\n",
    "    \n",
    "    # Treinamento do modelo\n",
    "    print('Treinando o modelo..')\n",
    "    start = datetime.now()\n",
    "    modelo.fit(x_train, y_train, eval_metric = 'rmse')\n",
    "    print('Concluído. Tempo total: {}\\n'.format(datetime.now() - start))\n",
    "\n",
    "    # Calculando o erro do modelo nos dados de treino\n",
    "    print('Calculando as Métricas com Dados de Treino.')\n",
    "    start = datetime.now()\n",
    "    y_train_pred = modelo.predict(x_train)\n",
    "    rmse_train, mape_train = calcula_metricas(y_train.values, y_train_pred)\n",
    "    \n",
    "    # Grava os resultados\n",
    "    train_results = {'rmse': rmse_train, 'mape' : mape_train, 'previsoes' : y_train_pred}\n",
    "    \n",
    "    if verbose:\n",
    "        print('\\nErro do Modelo em Dados de Treino')\n",
    "        print('-'*30)\n",
    "        print('RMSE : ', rmse_train)\n",
    "        print('MAPE : ', mape_train)\n",
    "        \n",
    "    # Avaliando o modelo com dados de teste\n",
    "    print('\\nAvaliando o modelo com dados de teste.')\n",
    "    y_test_pred = modelo.predict(x_test) \n",
    "    rmse_test, mape_test = calcula_metricas(y_true = y_test.values, y_pred = y_test_pred)\n",
    "    \n",
    "    # Grava os resultados\n",
    "    test_results = {'rmse': rmse_test, 'mape' : mape_test, 'previsoes':y_test_pred}\n",
    "    \n",
    "    if verbose:\n",
    "        print('\\nErro do Modelo em Dados de Teste')\n",
    "        print('-'*30)\n",
    "        print('RMSE : ', rmse_test)\n",
    "        print('MAPE : ', mape_test)\n",
    "        \n",
    "    return train_results, test_results"
   ]
  },
  {
   "cell_type": "code",
   "execution_count": 133,
   "metadata": {},
   "outputs": [],
   "source": [
    "# Seed\n",
    "my_seed = 15\n",
    "random.seed(my_seed)\n",
    "np.random.seed(my_seed)"
   ]
  },
  {
   "cell_type": "code",
   "execution_count": 134,
   "metadata": {},
   "outputs": [],
   "source": [
    "# Prepara os dados de treino\n",
    "x_treino = df_dados_treino_reg.drop(['usuario', 'filme', 'avaliacao'], axis = 1)\n",
    "y_treino = df_dados_treino_reg['avaliacao']"
   ]
  },
  {
   "cell_type": "code",
   "execution_count": 135,
   "metadata": {},
   "outputs": [],
   "source": [
    "# Prepara os dados de teste\n",
    "x_teste = df_dados_teste_reg.drop(['usuario', 'filme', 'avaliacao'], axis = 1)\n",
    "y_teste = df_dados_teste_reg['avaliacao']"
   ]
  },
  {
   "cell_type": "code",
   "execution_count": 136,
   "metadata": {},
   "outputs": [],
   "source": [
    "# Cria o modelo de regressão com 100 estimadores\n",
    "modelo_xgb = xgb.XGBRegressor(silent = False, random_state = 15, n_estimators = 100)"
   ]
  },
  {
   "cell_type": "code",
   "execution_count": 137,
   "metadata": {},
   "outputs": [
    {
     "name": "stdout",
     "output_type": "stream",
     "text": [
      "Treinando o modelo..\n",
      "[15:53:39] WARNING: src/objective/regression_obj.cu:152: reg:linear is now deprecated in favor of reg:squarederror.\n"
     ]
    },
    {
     "name": "stderr",
     "output_type": "stream",
     "text": [
      "C:\\ProgramData\\Anaconda3\\lib\\site-packages\\xgboost\\core.py:587: FutureWarning: Series.base is deprecated and will be removed in a future version\n",
      "  if getattr(data, 'base', None) is not None and \\\n",
      "C:\\ProgramData\\Anaconda3\\lib\\site-packages\\xgboost\\core.py:588: FutureWarning: Series.base is deprecated and will be removed in a future version\n",
      "  data.base is not None and isinstance(data, np.ndarray) \\\n"
     ]
    },
    {
     "name": "stdout",
     "output_type": "stream",
     "text": [
      "Concluído. Tempo total: 0:00:00.442294\n",
      "\n",
      "Calculando as Métricas com Dados de Treino.\n",
      "\n",
      "Erro do Modelo em Dados de Treino\n",
      "------------------------------\n",
      "RMSE :  0.8078431990765995\n",
      "MAPE :  23.950102057337762\n",
      "\n",
      "Avaliando o modelo com dados de teste.\n",
      "\n",
      "Erro do Modelo em Dados de Teste\n",
      "------------------------------\n",
      "RMSE :  1.1081779366885551\n",
      "MAPE :  33.226036360042805\n"
     ]
    }
   ],
   "source": [
    "# Treinamento do modelo\n",
    "train_results, test_results = executa_modelo_xgboost(modelo_xgb, x_treino, y_treino, x_teste, y_teste)"
   ]
  },
  {
   "cell_type": "code",
   "execution_count": 138,
   "metadata": {},
   "outputs": [],
   "source": [
    "# Armazena os resultados da avaliação do modelo\n",
    "models_evaluation_train['modelo_xgb'] = train_results\n",
    "models_evaluation_test['modelo_xgb'] = test_results"
   ]
  },
  {
   "cell_type": "code",
   "execution_count": 139,
   "metadata": {},
   "outputs": [
    {
     "data": {
      "image/png": "[encoded data removed]",
      "text/plain": [
       "<Figure size 432x288 with 1 Axes>"
      ]
     },
     "metadata": {
      "needs_background": "light"
     },
     "output_type": "display_data"
    }
   ],
   "source": [
    "# Variáveis mais importantes para o modelo\n",
    "xgb.plot_importance(modelo_xgb)\n",
    "plt.show()"
   ]
  },
  {
   "cell_type": "code",
   "execution_count": 140,
   "metadata": {},
   "outputs": [
    {
     "data": {
      "text/plain": [
       "{'modelo_xgb': {'mape': 33.226036360042805,\n",
       "  'previsoes': array([3.5995212, 3.5995212, 3.5995212, 3.5995212, 3.5995212, 3.5995212,\n",
       "         3.5995212, 3.5995212, 3.5995212, 3.5995212, 3.5995212, 3.5995212,\n",
       "         3.5995212, 3.5995212, 3.5995212, 3.5995212, 3.5995212, 3.5995212,\n",
       "         3.5995212, 3.5995212, 3.5995212, 3.5995212, 3.5995212, 3.5995212,\n",
       "         3.0902722, 3.5995212, 3.5995212, 3.5995212, 3.5995212, 3.5995212,\n",
       "         3.5995212, 3.7185678, 3.5995212, 3.5995212, 3.5995212, 3.5995212,\n",
       "         3.5995212, 3.5995212, 3.5995212, 3.5995212, 3.5995212, 3.5995212,\n",
       "         3.5995212, 3.5995212, 3.5995212, 3.5995212, 3.5995212, 3.5995212,\n",
       "         3.5995212, 3.5995212, 3.5995212, 3.5995212, 3.5995212, 3.5995212,\n",
       "         3.5995212, 3.5995212, 3.5995212, 3.5995212, 3.5995212, 3.5995212,\n",
       "         3.5995212, 3.5995212, 3.5995212, 3.5995212, 3.5995212, 3.5995212,\n",
       "         3.5995212, 3.5995212, 3.5995212, 3.5995212, 3.5995212, 3.5995212,\n",
       "         3.5995212, 3.5995212, 3.5995212, 3.5995212, 3.5995212, 3.5995212,\n",
       "         3.5995212, 3.5995212, 3.5995212, 3.5995212, 3.5995212, 3.5995212,\n",
       "         3.5995212, 3.5995212, 3.5995212, 3.5995212, 3.5995212, 3.5995212,\n",
       "         3.5995212, 3.5995212, 3.5995212, 3.5995212, 3.5995212, 3.5995212,\n",
       "         3.5995212, 3.5995212, 3.5995212, 3.5995212, 3.5995212, 3.5995212,\n",
       "         3.5995212, 3.5995212, 3.5995212, 3.5995212, 3.5995212, 3.5995212,\n",
       "         3.5995212, 3.5995212, 3.5995212, 3.5995212, 3.5995212, 3.5995212,\n",
       "         3.5995212, 3.5995212, 3.5995212, 3.5995212, 3.5995212, 3.5995212,\n",
       "         3.5995212, 3.5995212, 3.5995212, 3.5995212, 3.5995212, 3.5995212,\n",
       "         3.5995212, 3.5995212, 3.5995212, 3.5995212, 3.5995212, 3.5995212,\n",
       "         3.5995212, 3.5995212, 3.5995212, 3.5995212, 3.5995212, 3.5995212,\n",
       "         3.5995212, 3.5995212, 3.5995212, 3.5995212, 3.5995212, 3.5995212,\n",
       "         3.5995212, 3.5995212, 3.5995212, 3.5995212, 3.5995212, 3.5995212,\n",
       "         3.5995212, 3.5995212, 3.5995212, 3.5995212, 3.5995212, 3.5995212,\n",
       "         3.5995212, 3.5995212, 3.5995212, 3.5995212, 3.5995212, 3.7185678,\n",
       "         3.5995212, 3.5995212, 3.5995212, 3.5995212, 3.5995212, 3.5995212,\n",
       "         3.5995212], dtype=float32),\n",
       "  'rmse': 1.1081779366885551}}"
      ]
     },
     "execution_count": 140,
     "metadata": {},
     "output_type": "execute_result"
    }
   ],
   "source": [
    "models_evaluation_test"
   ]
  },
  {
   "cell_type": "code",
   "execution_count": 141,
   "metadata": {},
   "outputs": [],
   "source": [
    "result = pd.DataFrame(models_evaluation_test)"
   ]
  },
  {
   "cell_type": "code",
   "execution_count": 142,
   "metadata": {},
   "outputs": [
    {
     "data": {
      "text/plain": [
       "modelo_xgb    1.10818\n",
       "Name: rmse, dtype: object"
      ]
     },
     "execution_count": 142,
     "metadata": {},
     "output_type": "execute_result"
    }
   ],
   "source": [
    "result.loc['rmse'].sort_values()"
   ]
  }
 ],
 "metadata": {
  "kernelspec": {
   "display_name": "Python 3",
   "language": "python",
   "name": "python3"
  },
  "language_info": {
   "codemirror_mode": {
    "name": "ipython",
    "version": 3
   },
   "file_extension": ".py",
   "mimetype": "text/x-python",
   "name": "python",
   "nbconvert_exporter": "python",
   "pygments_lexer": "ipython3",
   "version": "3.7.1"
  }
 },
 "nbformat": 4,
 "nbformat_minor": 4
}
