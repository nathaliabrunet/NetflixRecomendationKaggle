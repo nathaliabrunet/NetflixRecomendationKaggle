{
 "cells": [
  {
   "cell_type": "markdown",
   "metadata": {},
   "source": [
    "# Step 2 - EDA\n",
    "    Análise exploratória dos dados\n",
    "    Criação da matriz esparsa\n",
    "    Problemas de cold start\n",
    "    Cálculo de similaridade\n",
    "    Redução de dimensionalidade com TruncatedSVD"
   ]
  },
  {
   "cell_type": "markdown",
   "metadata": {},
   "source": [
    "###### Imports"
   ]
  },
  {
   "cell_type": "code",
   "execution_count": 1,
   "metadata": {},
   "outputs": [],
   "source": [
    "import pandas as pd\n",
    "import numpy as np\n",
    "\n",
    "from scipy import sparse\n",
    "\n",
    "from datetime import datetime\n",
    "\n",
    "from sklearn.decomposition import TruncatedSVD\n",
    "\n",
    "# warnings\n",
    "import sys\n",
    "import warnings\n",
    "if not sys.warnoptions:\n",
    "    warnings.simplefilter(\"ignore\")  "
   ]
  },
  {
   "cell_type": "markdown",
   "metadata": {},
   "source": [
    "###### Carregando bases (geradas no step 1)"
   ]
  },
  {
   "cell_type": "code",
   "execution_count": 2,
   "metadata": {},
   "outputs": [
    {
     "data": {
      "text/html": [
       "<div>\n",
       "<style scoped>\n",
       "    .dataframe tbody tr th:only-of-type {\n",
       "        vertical-align: middle;\n",
       "    }\n",
       "\n",
       "    .dataframe tbody tr th {\n",
       "        vertical-align: top;\n",
       "    }\n",
       "\n",
       "    .dataframe thead th {\n",
       "        text-align: right;\n",
       "    }\n",
       "</style>\n",
       "<table border=\"1\" class=\"dataframe\">\n",
       "  <thead>\n",
       "    <tr style=\"text-align: right;\">\n",
       "      <th></th>\n",
       "      <th>filme</th>\n",
       "      <th>usuario</th>\n",
       "      <th>avaliacao</th>\n",
       "      <th>data</th>\n",
       "      <th>dia_mes</th>\n",
       "      <th>num_dia_semana</th>\n",
       "      <th>dia_semana</th>\n",
       "      <th>mes</th>\n",
       "    </tr>\n",
       "  </thead>\n",
       "  <tbody>\n",
       "    <tr>\n",
       "      <th>0</th>\n",
       "      <td>10341</td>\n",
       "      <td>510180</td>\n",
       "      <td>4</td>\n",
       "      <td>1999-11-11</td>\n",
       "      <td>11</td>\n",
       "      <td>3</td>\n",
       "      <td>Quinta</td>\n",
       "      <td>11</td>\n",
       "    </tr>\n",
       "    <tr>\n",
       "      <th>1</th>\n",
       "      <td>17764</td>\n",
       "      <td>510180</td>\n",
       "      <td>5</td>\n",
       "      <td>1999-11-11</td>\n",
       "      <td>11</td>\n",
       "      <td>3</td>\n",
       "      <td>Quinta</td>\n",
       "      <td>11</td>\n",
       "    </tr>\n",
       "    <tr>\n",
       "      <th>2</th>\n",
       "      <td>1367</td>\n",
       "      <td>510180</td>\n",
       "      <td>5</td>\n",
       "      <td>1999-11-11</td>\n",
       "      <td>11</td>\n",
       "      <td>3</td>\n",
       "      <td>Quinta</td>\n",
       "      <td>11</td>\n",
       "    </tr>\n",
       "    <tr>\n",
       "      <th>3</th>\n",
       "      <td>8079</td>\n",
       "      <td>510180</td>\n",
       "      <td>2</td>\n",
       "      <td>1999-11-11</td>\n",
       "      <td>11</td>\n",
       "      <td>3</td>\n",
       "      <td>Quinta</td>\n",
       "      <td>11</td>\n",
       "    </tr>\n",
       "    <tr>\n",
       "      <th>4</th>\n",
       "      <td>15105</td>\n",
       "      <td>510180</td>\n",
       "      <td>4</td>\n",
       "      <td>1999-11-11</td>\n",
       "      <td>11</td>\n",
       "      <td>3</td>\n",
       "      <td>Quinta</td>\n",
       "      <td>11</td>\n",
       "    </tr>\n",
       "  </tbody>\n",
       "</table>\n",
       "</div>"
      ],
      "text/plain": [
       "   filme  usuario  avaliacao       data  dia_mes  num_dia_semana dia_semana  \\\n",
       "0  10341   510180          4 1999-11-11       11               3     Quinta   \n",
       "1  17764   510180          5 1999-11-11       11               3     Quinta   \n",
       "2   1367   510180          5 1999-11-11       11               3     Quinta   \n",
       "3   8079   510180          2 1999-11-11       11               3     Quinta   \n",
       "4  15105   510180          4 1999-11-11       11               3     Quinta   \n",
       "\n",
       "   mes  \n",
       "0   11  \n",
       "1   11  \n",
       "2   11  \n",
       "3   11  \n",
       "4   11  "
      ]
     },
     "execution_count": 2,
     "metadata": {},
     "output_type": "execute_result"
    }
   ],
   "source": [
    "df_treino = pd.read_csv('archive/dataset_treino.csv.gz')\n",
    "df_teste = pd.read_csv('archive/dataset_teste.csv.gz')\n",
    "\n",
    "df_treino.data = pd.to_datetime(df_treino.data)\n",
    "df_treino['dia_mes'] = [i.day for i in df_treino['data']]\n",
    "\n",
    "dias = [\n",
    "    'Segunda',\n",
    "    'Terça',\n",
    "    'Quarta',\n",
    "    'Quinta',\n",
    "    'Sexta',\n",
    "    'Sábado',\n",
    "    'Domingo'\n",
    "]\n",
    "df_treino['num_dia_semana'] = [i.weekday() for i in df_treino['data']]\n",
    "df_treino['dia_semana'] = [dias[i] for i in df_treino['num_dia_semana']]\n",
    "df_treino['mes'] = [i.month for i in df_treino['data']]\n",
    "\n",
    "#df_treino['dia_semana'] = df_treino['data'].dt.strftime(\"%A\")\n",
    "df_treino.head()"
   ]
  },
  {
   "cell_type": "markdown",
   "metadata": {},
   "source": [
    "#### Quantidades de usuários, filmes e avaliações"
   ]
  },
  {
   "cell_type": "code",
   "execution_count": 3,
   "metadata": {},
   "outputs": [
    {
     "name": "stdout",
     "output_type": "stream",
     "text": [
      "Quantidade de usuários avaliando: 405035\n",
      "Quantidade de filmes avaliados: 17425\n",
      "Quantidade de avaliações: 80384405\n"
     ]
    }
   ],
   "source": [
    "print('Quantidade de usuários avaliando:', df_treino.usuario.nunique())\n",
    "print('Quantidade de filmes avaliados:', df_treino.filme.nunique())\n",
    "print('Quantidade de avaliações:', df_treino.shape[0])"
   ]
  },
  {
   "cell_type": "markdown",
   "metadata": {},
   "source": [
    "#### Período analisado"
   ]
  },
  {
   "cell_type": "code",
   "execution_count": 4,
   "metadata": {},
   "outputs": [
    {
     "name": "stdout",
     "output_type": "stream",
     "text": [
      "Data mínima: 1999-11-11 00:00:00\n",
      "Data máxima: 2005-08-08 00:00:00\n",
      "duração período 2097 days 00:00:00\n"
     ]
    }
   ],
   "source": [
    "print('Data mínima:', df_treino.data.min())\n",
    "print('Data máxima:', df_treino.data.max())\n",
    "print('duração período', (df_treino.data.max()-df_treino.data.min()))"
   ]
  },
  {
   "cell_type": "markdown",
   "metadata": {},
   "source": [
    "#### Verificando nulos"
   ]
  },
  {
   "cell_type": "code",
   "execution_count": 5,
   "metadata": {},
   "outputs": [
    {
     "data": {
      "text/plain": [
       "filme             0\n",
       "usuario           0\n",
       "avaliacao         0\n",
       "data              0\n",
       "dia_mes           0\n",
       "num_dia_semana    0\n",
       "dia_semana        0\n",
       "mes               0\n",
       "dtype: int64"
      ]
     },
     "execution_count": 5,
     "metadata": {},
     "output_type": "execute_result"
    }
   ],
   "source": [
    "df_treino.isnull().sum()"
   ]
  },
  {
   "cell_type": "markdown",
   "metadata": {},
   "source": [
    "#### Describe"
   ]
  },
  {
   "cell_type": "code",
   "execution_count": 6,
   "metadata": {},
   "outputs": [
    {
     "data": {
      "text/html": [
       "<div>\n",
       "<style scoped>\n",
       "    .dataframe tbody tr th:only-of-type {\n",
       "        vertical-align: middle;\n",
       "    }\n",
       "\n",
       "    .dataframe tbody tr th {\n",
       "        vertical-align: top;\n",
       "    }\n",
       "\n",
       "    .dataframe thead th {\n",
       "        text-align: right;\n",
       "    }\n",
       "</style>\n",
       "<table border=\"1\" class=\"dataframe\">\n",
       "  <thead>\n",
       "    <tr style=\"text-align: right;\">\n",
       "      <th></th>\n",
       "      <th>filme</th>\n",
       "      <th>usuario</th>\n",
       "      <th>avaliacao</th>\n",
       "      <th>dia_mes</th>\n",
       "      <th>num_dia_semana</th>\n",
       "      <th>mes</th>\n",
       "    </tr>\n",
       "  </thead>\n",
       "  <tbody>\n",
       "    <tr>\n",
       "      <th>count</th>\n",
       "      <td>8.038440e+07</td>\n",
       "      <td>8.038440e+07</td>\n",
       "      <td>8.038440e+07</td>\n",
       "      <td>8.038440e+07</td>\n",
       "      <td>8.038440e+07</td>\n",
       "      <td>8.038440e+07</td>\n",
       "    </tr>\n",
       "    <tr>\n",
       "      <th>mean</th>\n",
       "      <td>9.038531e+03</td>\n",
       "      <td>1.321508e+06</td>\n",
       "      <td>3.582852e+00</td>\n",
       "      <td>1.558192e+01</td>\n",
       "      <td>2.607768e+00</td>\n",
       "      <td>5.965377e+00</td>\n",
       "    </tr>\n",
       "    <tr>\n",
       "      <th>std</th>\n",
       "      <td>5.134194e+03</td>\n",
       "      <td>7.646536e+05</td>\n",
       "      <td>1.082972e+00</td>\n",
       "      <td>8.875925e+00</td>\n",
       "      <td>1.935246e+00</td>\n",
       "      <td>3.294635e+00</td>\n",
       "    </tr>\n",
       "    <tr>\n",
       "      <th>min</th>\n",
       "      <td>1.000000e+00</td>\n",
       "      <td>6.000000e+00</td>\n",
       "      <td>1.000000e+00</td>\n",
       "      <td>1.000000e+00</td>\n",
       "      <td>0.000000e+00</td>\n",
       "      <td>1.000000e+00</td>\n",
       "    </tr>\n",
       "    <tr>\n",
       "      <th>25%</th>\n",
       "      <td>4.652000e+03</td>\n",
       "      <td>6.606360e+05</td>\n",
       "      <td>3.000000e+00</td>\n",
       "      <td>8.000000e+00</td>\n",
       "      <td>1.000000e+00</td>\n",
       "      <td>3.000000e+00</td>\n",
       "    </tr>\n",
       "    <tr>\n",
       "      <th>50%</th>\n",
       "      <td>8.989000e+03</td>\n",
       "      <td>1.317009e+06</td>\n",
       "      <td>4.000000e+00</td>\n",
       "      <td>1.600000e+01</td>\n",
       "      <td>2.000000e+00</td>\n",
       "      <td>6.000000e+00</td>\n",
       "    </tr>\n",
       "    <tr>\n",
       "      <th>75%</th>\n",
       "      <td>1.361400e+04</td>\n",
       "      <td>1.983562e+06</td>\n",
       "      <td>4.000000e+00</td>\n",
       "      <td>2.300000e+01</td>\n",
       "      <td>4.000000e+00</td>\n",
       "      <td>8.000000e+00</td>\n",
       "    </tr>\n",
       "    <tr>\n",
       "      <th>max</th>\n",
       "      <td>1.777000e+04</td>\n",
       "      <td>2.649429e+06</td>\n",
       "      <td>5.000000e+00</td>\n",
       "      <td>3.100000e+01</td>\n",
       "      <td>6.000000e+00</td>\n",
       "      <td>1.200000e+01</td>\n",
       "    </tr>\n",
       "  </tbody>\n",
       "</table>\n",
       "</div>"
      ],
      "text/plain": [
       "              filme       usuario     avaliacao       dia_mes  num_dia_semana  \\\n",
       "count  8.038440e+07  8.038440e+07  8.038440e+07  8.038440e+07    8.038440e+07   \n",
       "mean   9.038531e+03  1.321508e+06  3.582852e+00  1.558192e+01    2.607768e+00   \n",
       "std    5.134194e+03  7.646536e+05  1.082972e+00  8.875925e+00    1.935246e+00   \n",
       "min    1.000000e+00  6.000000e+00  1.000000e+00  1.000000e+00    0.000000e+00   \n",
       "25%    4.652000e+03  6.606360e+05  3.000000e+00  8.000000e+00    1.000000e+00   \n",
       "50%    8.989000e+03  1.317009e+06  4.000000e+00  1.600000e+01    2.000000e+00   \n",
       "75%    1.361400e+04  1.983562e+06  4.000000e+00  2.300000e+01    4.000000e+00   \n",
       "max    1.777000e+04  2.649429e+06  5.000000e+00  3.100000e+01    6.000000e+00   \n",
       "\n",
       "                mes  \n",
       "count  8.038440e+07  \n",
       "mean   5.965377e+00  \n",
       "std    3.294635e+00  \n",
       "min    1.000000e+00  \n",
       "25%    3.000000e+00  \n",
       "50%    6.000000e+00  \n",
       "75%    8.000000e+00  \n",
       "max    1.200000e+01  "
      ]
     },
     "execution_count": 6,
     "metadata": {},
     "output_type": "execute_result"
    }
   ],
   "source": [
    "df_treino.describe()"
   ]
  },
  {
   "cell_type": "markdown",
   "metadata": {},
   "source": [
    "#### Verificando duplicidade"
   ]
  },
  {
   "cell_type": "code",
   "execution_count": 7,
   "metadata": {},
   "outputs": [
    {
     "data": {
      "text/plain": [
       "0"
      ]
     },
     "execution_count": 7,
     "metadata": {},
     "output_type": "execute_result"
    }
   ],
   "source": [
    "sum(df_treino.duplicated(['filme', 'usuario', 'avaliacao']))"
   ]
  },
  {
   "cell_type": "markdown",
   "metadata": {},
   "source": [
    "#### Verificando distribuição das avaliações"
   ]
  },
  {
   "cell_type": "code",
   "execution_count": 8,
   "metadata": {},
   "outputs": [
    {
     "data": {
      "text/plain": [
       "1    0.046543\n",
       "2    0.104128\n",
       "3    0.290349\n",
       "4    0.337891\n",
       "5    0.221088\n",
       "Name: avaliacao, dtype: float64"
      ]
     },
     "execution_count": 8,
     "metadata": {},
     "output_type": "execute_result"
    }
   ],
   "source": [
    "df_treino.avaliacao.value_counts(normalize=True).sort_index()"
   ]
  },
  {
   "cell_type": "markdown",
   "metadata": {},
   "source": [
    "#### Média de avaliações"
   ]
  },
  {
   "cell_type": "code",
   "execution_count": 9,
   "metadata": {},
   "outputs": [
    {
     "data": {
      "text/plain": [
       "3.5828520594262034"
      ]
     },
     "execution_count": 9,
     "metadata": {},
     "output_type": "execute_result"
    }
   ],
   "source": [
    "df_treino.avaliacao.mean()"
   ]
  },
  {
   "cell_type": "code",
   "execution_count": 10,
   "metadata": {},
   "outputs": [],
   "source": [
    "import matplotlib.pyplot as plt\n",
    "import seaborn as sns"
   ]
  },
  {
   "cell_type": "markdown",
   "metadata": {},
   "source": [
    "#### Função para ajuste das unidades de medida para deixar visualização mais agradável"
   ]
  },
  {
   "cell_type": "code",
   "execution_count": 11,
   "metadata": {},
   "outputs": [],
   "source": [
    "def ajusta_unidades(num, units = 'M'):\n",
    "    units = units.lower()\n",
    "    num = float(num)\n",
    "    if units == 'k':\n",
    "        return str(num/10**3) + \" K\"\n",
    "    elif units == 'm':\n",
    "        return str(num/10**6) + \" M\"\n",
    "    elif units == 'b':\n",
    "        return str(num/10**9) +  \" B\""
   ]
  },
  {
   "cell_type": "markdown",
   "metadata": {},
   "source": [
    "#### Distribuição das Avaliações"
   ]
  },
  {
   "cell_type": "code",
   "execution_count": 12,
   "metadata": {},
   "outputs": [
    {
     "data": {
      "image/png": "[encoded data removed]",
      "text/plain": [
       "<Figure size 432x288 with 1 Axes>"
      ]
     },
     "metadata": {
      "needs_background": "light"
     },
     "output_type": "display_data"
    }
   ],
   "source": [
    "# Plot\n",
    "fig, ax = plt.subplots()\n",
    "plt.title('Distribuição das Avaliações', fontsize = 15)\n",
    "sns.countplot(df_treino.avaliacao)\n",
    "ax.set_xlabel('Avaliações')\n",
    "ax.set_ylabel('Número de Avaliações')\n",
    "\n",
    "ax.set_yticklabels([ajusta_unidades(item, 'M') for item in ax.get_yticks()])\n",
    "\n",
    "plt.show()"
   ]
  },
  {
   "cell_type": "markdown",
   "metadata": {},
   "source": [
    "#### Distribuição das Avaliações por dia da semana"
   ]
  },
  {
   "cell_type": "code",
   "execution_count": 13,
   "metadata": {},
   "outputs": [
    {
     "data": {
      "image/png": "[encoded data removed]",
      "text/plain": [
       "<Figure size 432x288 with 1 Axes>"
      ]
     },
     "metadata": {
      "needs_background": "light"
     },
     "output_type": "display_data"
    }
   ],
   "source": [
    "# Plot\n",
    "fig, ax = plt.subplots()\n",
    "sns.countplot(x = 'dia_semana', data = df_treino, ax = ax)\n",
    "plt.title('Número de Avaliações por dia da semana')\n",
    "plt.ylabel('Total de Avaliações')\n",
    "plt.xlabel('')\n",
    "ax.set_yticklabels([ajusta_unidades(item, 'M') for item in ax.get_yticks()])\n",
    "plt.show()"
   ]
  },
  {
   "cell_type": "markdown",
   "metadata": {},
   "source": [
    "#### Criando período do mês"
   ]
  },
  {
   "cell_type": "code",
   "execution_count": 14,
   "metadata": {},
   "outputs": [],
   "source": [
    "conditions = [\n",
    "    (df_treino['dia_mes'] < 11),\n",
    "    ((df_treino['dia_mes'] >= 11) & (df_treino['dia_mes'] <=20)),\n",
    "    (df_treino['dia_mes'] > 20)\n",
    "    ]\n",
    "\n",
    "values = ['inicio', 'meio', 'final']\n",
    "df_treino['periodo_mes'] = np.select(conditions, values)"
   ]
  },
  {
   "cell_type": "code",
   "execution_count": 15,
   "metadata": {},
   "outputs": [
    {
     "data": {
      "text/html": [
       "<div>\n",
       "<style scoped>\n",
       "    .dataframe tbody tr th:only-of-type {\n",
       "        vertical-align: middle;\n",
       "    }\n",
       "\n",
       "    .dataframe tbody tr th {\n",
       "        vertical-align: top;\n",
       "    }\n",
       "\n",
       "    .dataframe thead th {\n",
       "        text-align: right;\n",
       "    }\n",
       "</style>\n",
       "<table border=\"1\" class=\"dataframe\">\n",
       "  <thead>\n",
       "    <tr style=\"text-align: right;\">\n",
       "      <th></th>\n",
       "      <th>filme</th>\n",
       "      <th>usuario</th>\n",
       "      <th>avaliacao</th>\n",
       "      <th>data</th>\n",
       "      <th>dia_mes</th>\n",
       "      <th>num_dia_semana</th>\n",
       "      <th>dia_semana</th>\n",
       "      <th>mes</th>\n",
       "      <th>periodo_mes</th>\n",
       "    </tr>\n",
       "  </thead>\n",
       "  <tbody>\n",
       "    <tr>\n",
       "      <th>0</th>\n",
       "      <td>10341</td>\n",
       "      <td>510180</td>\n",
       "      <td>4</td>\n",
       "      <td>1999-11-11</td>\n",
       "      <td>11</td>\n",
       "      <td>3</td>\n",
       "      <td>Quinta</td>\n",
       "      <td>11</td>\n",
       "      <td>meio</td>\n",
       "    </tr>\n",
       "    <tr>\n",
       "      <th>1</th>\n",
       "      <td>17764</td>\n",
       "      <td>510180</td>\n",
       "      <td>5</td>\n",
       "      <td>1999-11-11</td>\n",
       "      <td>11</td>\n",
       "      <td>3</td>\n",
       "      <td>Quinta</td>\n",
       "      <td>11</td>\n",
       "      <td>meio</td>\n",
       "    </tr>\n",
       "    <tr>\n",
       "      <th>2</th>\n",
       "      <td>1367</td>\n",
       "      <td>510180</td>\n",
       "      <td>5</td>\n",
       "      <td>1999-11-11</td>\n",
       "      <td>11</td>\n",
       "      <td>3</td>\n",
       "      <td>Quinta</td>\n",
       "      <td>11</td>\n",
       "      <td>meio</td>\n",
       "    </tr>\n",
       "    <tr>\n",
       "      <th>3</th>\n",
       "      <td>8079</td>\n",
       "      <td>510180</td>\n",
       "      <td>2</td>\n",
       "      <td>1999-11-11</td>\n",
       "      <td>11</td>\n",
       "      <td>3</td>\n",
       "      <td>Quinta</td>\n",
       "      <td>11</td>\n",
       "      <td>meio</td>\n",
       "    </tr>\n",
       "    <tr>\n",
       "      <th>4</th>\n",
       "      <td>15105</td>\n",
       "      <td>510180</td>\n",
       "      <td>4</td>\n",
       "      <td>1999-11-11</td>\n",
       "      <td>11</td>\n",
       "      <td>3</td>\n",
       "      <td>Quinta</td>\n",
       "      <td>11</td>\n",
       "      <td>meio</td>\n",
       "    </tr>\n",
       "  </tbody>\n",
       "</table>\n",
       "</div>"
      ],
      "text/plain": [
       "   filme  usuario  avaliacao       data  dia_mes  num_dia_semana dia_semana  \\\n",
       "0  10341   510180          4 1999-11-11       11               3     Quinta   \n",
       "1  17764   510180          5 1999-11-11       11               3     Quinta   \n",
       "2   1367   510180          5 1999-11-11       11               3     Quinta   \n",
       "3   8079   510180          2 1999-11-11       11               3     Quinta   \n",
       "4  15105   510180          4 1999-11-11       11               3     Quinta   \n",
       "\n",
       "   mes periodo_mes  \n",
       "0   11        meio  \n",
       "1   11        meio  \n",
       "2   11        meio  \n",
       "3   11        meio  \n",
       "4   11        meio  "
      ]
     },
     "execution_count": 15,
     "metadata": {},
     "output_type": "execute_result"
    }
   ],
   "source": [
    "df_treino.head()"
   ]
  },
  {
   "cell_type": "code",
   "execution_count": 16,
   "metadata": {},
   "outputs": [
    {
     "data": {
      "image/png": "[encoded data removed]",
      "text/plain": [
       "<Figure size 432x288 with 1 Axes>"
      ]
     },
     "metadata": {
      "needs_background": "light"
     },
     "output_type": "display_data"
    }
   ],
   "source": [
    "# Plot\n",
    "fig, ax = plt.subplots()\n",
    "sns.countplot(x = 'periodo_mes', data = df_treino, ax = ax)\n",
    "plt.title('Número de Avaliações por periodo_mes')\n",
    "plt.ylabel('Total de Avaliações')\n",
    "plt.xlabel('Período do mês')\n",
    "ax.set_yticklabels([ajusta_unidades(item, 'M') for item in ax.get_yticks()])\n",
    "plt.show()"
   ]
  },
  {
   "cell_type": "code",
   "execution_count": 17,
   "metadata": {},
   "outputs": [
    {
     "name": "stdout",
     "output_type": "stream",
     "text": [
      "media por mês\n"
     ]
    },
    {
     "data": {
      "text/plain": [
       "mes\n",
       "1     3.551074\n",
       "2     3.556291\n",
       "3     3.579496\n",
       "4     3.590111\n",
       "5     3.592810\n",
       "6     3.613396\n",
       "7     3.624679\n",
       "8     3.569686\n",
       "9     3.550485\n",
       "10    3.578523\n",
       "11    3.567319\n",
       "12    3.578930\n",
       "Name: avaliacao, dtype: float64"
      ]
     },
     "execution_count": 17,
     "metadata": {},
     "output_type": "execute_result"
    }
   ],
   "source": [
    "#media por mes\n",
    "print('media por mês')\n",
    "df_treino.groupby('mes')['avaliacao'].mean()"
   ]
  },
  {
   "cell_type": "code",
   "execution_count": 18,
   "metadata": {},
   "outputs": [
    {
     "name": "stdout",
     "output_type": "stream",
     "text": [
      "media por dia do mês\n"
     ]
    },
    {
     "data": {
      "text/plain": [
       "dia_mes\n",
       "1     3.590053\n",
       "2     3.576557\n",
       "3     3.575087\n",
       "4     3.583554\n",
       "5     3.585278\n",
       "6     3.593772\n",
       "7     3.591330\n",
       "8     3.580380\n",
       "9     3.563408\n",
       "10    3.575705\n",
       "11    3.573306\n",
       "12    3.572071\n",
       "13    3.577663\n",
       "14    3.573495\n",
       "15    3.598314\n",
       "16    3.580969\n",
       "17    3.578229\n",
       "18    3.580076\n",
       "19    3.591993\n",
       "20    3.590178\n",
       "21    3.586521\n",
       "22    3.581881\n",
       "23    3.581880\n",
       "24    3.583533\n",
       "25    3.588038\n",
       "26    3.583698\n",
       "27    3.592250\n",
       "28    3.590879\n",
       "29    3.580967\n",
       "30    3.577262\n",
       "31    3.583677\n",
       "Name: avaliacao, dtype: float64"
      ]
     },
     "execution_count": 18,
     "metadata": {},
     "output_type": "execute_result"
    }
   ],
   "source": [
    "#media por dia\n",
    "print('media por dia do mês')\n",
    "df_treino.groupby('dia_mes')['avaliacao'].mean()"
   ]
  },
  {
   "cell_type": "code",
   "execution_count": 19,
   "metadata": {},
   "outputs": [
    {
     "name": "stdout",
     "output_type": "stream",
     "text": [
      "media por dia da semana\n"
     ]
    },
    {
     "data": {
      "text/plain": [
       "dia_semana\n",
       "Domingo    3.594144\n",
       "Quarta     3.583751\n",
       "Quinta     3.582463\n",
       "Segunda    3.577025\n",
       "Sexta      3.585274\n",
       "Sábado     3.591791\n",
       "Terça      3.574438\n",
       "Name: avaliacao, dtype: float64"
      ]
     },
     "execution_count": 19,
     "metadata": {},
     "output_type": "execute_result"
    }
   ],
   "source": [
    "#media por dia da semana\n",
    "print('media por dia da semana')\n",
    "df_treino.groupby('dia_semana')['avaliacao'].mean()"
   ]
  },
  {
   "cell_type": "markdown",
   "metadata": {},
   "source": [
    "### Em geral o mês, dia do mês ou dia da semana não interferem na avaliação\n",
    "## ----------"
   ]
  },
  {
   "cell_type": "code",
   "execution_count": 20,
   "metadata": {},
   "outputs": [
    {
     "data": {
      "text/html": [
       "<div>\n",
       "<style scoped>\n",
       "    .dataframe tbody tr th:only-of-type {\n",
       "        vertical-align: middle;\n",
       "    }\n",
       "\n",
       "    .dataframe tbody tr th {\n",
       "        vertical-align: top;\n",
       "    }\n",
       "\n",
       "    .dataframe thead th {\n",
       "        text-align: right;\n",
       "    }\n",
       "</style>\n",
       "<table border=\"1\" class=\"dataframe\">\n",
       "  <thead>\n",
       "    <tr style=\"text-align: right;\">\n",
       "      <th></th>\n",
       "      <th>filme</th>\n",
       "      <th>usuario</th>\n",
       "      <th>avaliacao</th>\n",
       "      <th>data</th>\n",
       "      <th>dia_mes</th>\n",
       "      <th>num_dia_semana</th>\n",
       "      <th>dia_semana</th>\n",
       "      <th>mes</th>\n",
       "      <th>periodo_mes</th>\n",
       "    </tr>\n",
       "  </thead>\n",
       "  <tbody>\n",
       "    <tr>\n",
       "      <th>0</th>\n",
       "      <td>10341</td>\n",
       "      <td>510180</td>\n",
       "      <td>4</td>\n",
       "      <td>1999-11-11</td>\n",
       "      <td>11</td>\n",
       "      <td>3</td>\n",
       "      <td>Quinta</td>\n",
       "      <td>11</td>\n",
       "      <td>meio</td>\n",
       "    </tr>\n",
       "    <tr>\n",
       "      <th>1</th>\n",
       "      <td>17764</td>\n",
       "      <td>510180</td>\n",
       "      <td>5</td>\n",
       "      <td>1999-11-11</td>\n",
       "      <td>11</td>\n",
       "      <td>3</td>\n",
       "      <td>Quinta</td>\n",
       "      <td>11</td>\n",
       "      <td>meio</td>\n",
       "    </tr>\n",
       "    <tr>\n",
       "      <th>2</th>\n",
       "      <td>1367</td>\n",
       "      <td>510180</td>\n",
       "      <td>5</td>\n",
       "      <td>1999-11-11</td>\n",
       "      <td>11</td>\n",
       "      <td>3</td>\n",
       "      <td>Quinta</td>\n",
       "      <td>11</td>\n",
       "      <td>meio</td>\n",
       "    </tr>\n",
       "    <tr>\n",
       "      <th>3</th>\n",
       "      <td>8079</td>\n",
       "      <td>510180</td>\n",
       "      <td>2</td>\n",
       "      <td>1999-11-11</td>\n",
       "      <td>11</td>\n",
       "      <td>3</td>\n",
       "      <td>Quinta</td>\n",
       "      <td>11</td>\n",
       "      <td>meio</td>\n",
       "    </tr>\n",
       "    <tr>\n",
       "      <th>4</th>\n",
       "      <td>15105</td>\n",
       "      <td>510180</td>\n",
       "      <td>4</td>\n",
       "      <td>1999-11-11</td>\n",
       "      <td>11</td>\n",
       "      <td>3</td>\n",
       "      <td>Quinta</td>\n",
       "      <td>11</td>\n",
       "      <td>meio</td>\n",
       "    </tr>\n",
       "  </tbody>\n",
       "</table>\n",
       "</div>"
      ],
      "text/plain": [
       "   filme  usuario  avaliacao       data  dia_mes  num_dia_semana dia_semana  \\\n",
       "0  10341   510180          4 1999-11-11       11               3     Quinta   \n",
       "1  17764   510180          5 1999-11-11       11               3     Quinta   \n",
       "2   1367   510180          5 1999-11-11       11               3     Quinta   \n",
       "3   8079   510180          2 1999-11-11       11               3     Quinta   \n",
       "4  15105   510180          4 1999-11-11       11               3     Quinta   \n",
       "\n",
       "   mes periodo_mes  \n",
       "0   11        meio  \n",
       "1   11        meio  \n",
       "2   11        meio  \n",
       "3   11        meio  \n",
       "4   11        meio  "
      ]
     },
     "execution_count": 20,
     "metadata": {},
     "output_type": "execute_result"
    }
   ],
   "source": [
    "df_treino.head()"
   ]
  },
  {
   "cell_type": "code",
   "execution_count": 21,
   "metadata": {},
   "outputs": [
    {
     "data": {
      "image/png": "[encoded data removed]",
      "text/plain": [
       "<Figure size 576x288 with 1 Axes>"
      ]
     },
     "metadata": {
      "needs_background": "light"
     },
     "output_type": "display_data"
    },
    {
     "data": {
      "image/png": "[encoded data removed]",
      "text/plain": [
       "<Figure size 576x288 with 1 Axes>"
      ]
     },
     "metadata": {
      "needs_background": "light"
     },
     "output_type": "display_data"
    },
    {
     "data": {
      "image/png": "[encoded data removed]",
      "text/plain": [
       "<Figure size 576x288 with 1 Axes>"
      ]
     },
     "metadata": {
      "needs_background": "light"
     },
     "output_type": "display_data"
    }
   ],
   "source": [
    "# Plot\n",
    "fig = plt.figure(figsize = plt.figaspect(.50))\n",
    "ax = df_treino.resample('d', on = 'data')['avaliacao'].count().plot()\n",
    "ax.set_title('Número de Avaliações Por dia')\n",
    "plt.xlabel('Mês')\n",
    "plt.ylabel('Número de Avaliações Por dia')\n",
    "plt.show()\n",
    "\n",
    "# Plot\n",
    "fig = plt.figure(figsize = plt.figaspect(.50))\n",
    "ax = df_treino.resample('m', on = 'data')['avaliacao'].count().plot()\n",
    "ax.set_title('Número de Avaliações Por mês')\n",
    "plt.xlabel('Mês')\n",
    "plt.ylabel('Número de Avaliações Por mês')\n",
    "plt.show()\n",
    "\n",
    "# Plot\n",
    "fig = plt.figure(figsize = plt.figaspect(.50))\n",
    "ax = df_treino.resample('y', on = 'data')['avaliacao'].count().plot()\n",
    "ax.set_title('Número de Avaliações Por ano')\n",
    "plt.xlabel('Mês')\n",
    "plt.ylabel('Número de Avaliações Por ano')\n",
    "plt.show()"
   ]
  },
  {
   "cell_type": "markdown",
   "metadata": {},
   "source": [
    "### Aumento de avaliações com o passar do tempo, o que faz sentido, mais pessoas utilizando o netflix\n",
    "## ----------"
   ]
  },
  {
   "cell_type": "markdown",
   "metadata": {},
   "source": [
    "#### Histograma"
   ]
  },
  {
   "cell_type": "code",
   "execution_count": 22,
   "metadata": {},
   "outputs": [
    {
     "data": {
      "text/plain": [
       "array([[<AxesSubplot:title={'center':'avaliacao'}>,\n",
       "        <AxesSubplot:title={'center':'dia_mes'}>],\n",
       "       [<AxesSubplot:title={'center':'filme'}>,\n",
       "        <AxesSubplot:title={'center':'mes'}>],\n",
       "       [<AxesSubplot:title={'center':'num_dia_semana'}>,\n",
       "        <AxesSubplot:title={'center':'usuario'}>]], dtype=object)"
      ]
     },
     "execution_count": 22,
     "metadata": {},
     "output_type": "execute_result"
    },
    {
     "data": {
      "image/png": "[encoded data removed]",
      "text/plain": [
       "<Figure size 432x288 with 6 Axes>"
      ]
     },
     "metadata": {
      "needs_background": "light"
     },
     "output_type": "display_data"
    }
   ],
   "source": [
    "df_treino.hist(bins=50)"
   ]
  },
  {
   "cell_type": "markdown",
   "metadata": {},
   "source": [
    "#### Quantidade de avaliações por usuário"
   ]
  },
  {
   "cell_type": "code",
   "execution_count": 23,
   "metadata": {
    "scrolled": true
   },
   "outputs": [
    {
     "data": {
      "image/png": "[encoded data removed]",
      "text/plain": [
       "<Figure size 576x288 with 1 Axes>"
      ]
     },
     "metadata": {
      "needs_background": "light"
     },
     "output_type": "display_data"
    }
   ],
   "source": [
    "num_avaliacao_por_usuario = df_treino.groupby(by = 'usuario')['avaliacao'].count().sort_values(ascending = False)\n",
    "\n",
    "fig = plt.figure(figsize=plt.figaspect(.5))\n",
    "ax = plt.gca()\n",
    "plt.plot(num_avaliacao_por_usuario.values)\n",
    "plt.title('Avaliação por filme')\n",
    "plt.xlabel('Filme')\n",
    "plt.ylabel('Número de usuários que avaliaram o filme')\n",
    "ax.set_xticklabels([])\n",
    "\n",
    "plt.show()"
   ]
  },
  {
   "cell_type": "markdown",
   "metadata": {},
   "source": [
    "###### Início do gráfico alto, alguns filmes que são avaliados por um grande número de usuários (filmes mais populares)\n",
    "\n",
    "###### Mas a maioria dos filmes (curva descendo - maior parte do gráfico pra baixo) tem menos avaliações (algumas centenas)"
   ]
  },
  {
   "cell_type": "markdown",
   "metadata": {},
   "source": [
    "###### -------------------------------------------------------------------------------------------------------------------------------------------------------------------------"
   ]
  },
  {
   "cell_type": "markdown",
   "metadata": {},
   "source": [
    "### Percentis"
   ]
  },
  {
   "cell_type": "code",
   "execution_count": 24,
   "metadata": {},
   "outputs": [],
   "source": [
    "percentis = num_avaliacao_por_usuario.quantile(np.arange(0,1.01,0.01), interpolation = 'higher')"
   ]
  },
  {
   "cell_type": "code",
   "execution_count": 25,
   "metadata": {
    "scrolled": true
   },
   "outputs": [
    {
     "data": {
      "text/plain": [
       "0.00        1\n",
       "0.05        7\n",
       "0.10       15\n",
       "0.15       21\n",
       "0.20       27\n",
       "0.25       34\n",
       "0.30       41\n",
       "0.35       50\n",
       "0.40       60\n",
       "0.45       73\n",
       "0.50       89\n",
       "0.55      109\n",
       "0.60      133\n",
       "0.65      163\n",
       "0.70      199\n",
       "0.75      245\n",
       "0.80      307\n",
       "0.85      392\n",
       "0.90      520\n",
       "0.95      749\n",
       "1.00    17111\n",
       "Name: avaliacao, dtype: int64"
      ]
     },
     "execution_count": 25,
     "metadata": {},
     "output_type": "execute_result"
    }
   ],
   "source": [
    "percentis[::5]"
   ]
  },
  {
   "cell_type": "markdown",
   "metadata": {},
   "source": [
    "#### Quantas avaliações estão nos últimos 5% de todas as avaliações"
   ]
  },
  {
   "cell_type": "code",
   "execution_count": 26,
   "metadata": {},
   "outputs": [
    {
     "name": "stdout",
     "output_type": "stream",
     "text": [
      "\n",
      " Quantidade de avaliações que estão nos últimos 5%:  20301\n"
     ]
    }
   ],
   "source": [
    "print('\\n Quantidade de avaliações que estão nos últimos 5%: ', sum(num_avaliacao_por_usuario>= 749)) "
   ]
  },
  {
   "cell_type": "markdown",
   "metadata": {},
   "source": [
    "#### 95% da base (filmes) tem até 749.0 avaliações"
   ]
  },
  {
   "cell_type": "code",
   "execution_count": 27,
   "metadata": {
    "scrolled": true
   },
   "outputs": [
    {
     "name": "stdout",
     "output_type": "stream",
     "text": [
      "\n",
      " 95% da base(filmes) tem até 749.0 avaliações\n"
     ]
    }
   ],
   "source": [
    "print('\\n 95% da base(filmes) tem até',num_avaliacao_por_usuario.quantile(0.95),'avaliações')"
   ]
  },
  {
   "cell_type": "markdown",
   "metadata": {},
   "source": [
    "###### Observa-se que a maior parte dos filmes (90%) tem até 749 avaliações, os outros 5% totalizam 20305 avaliações"
   ]
  },
  {
   "cell_type": "markdown",
   "metadata": {},
   "source": [
    "# --------------------------------------------------------------------------------------------------------"
   ]
  },
  {
   "cell_type": "markdown",
   "metadata": {},
   "source": [
    "# --------------------------------------------------------------------------------------------------------"
   ]
  },
  {
   "cell_type": "markdown",
   "metadata": {},
   "source": [
    "# Criação da Matriz Esparsa"
   ]
  },
  {
   "cell_type": "markdown",
   "metadata": {},
   "source": [
    "### Treino"
   ]
  },
  {
   "cell_type": "code",
   "execution_count": 28,
   "metadata": {},
   "outputs": [
    {
     "name": "stdout",
     "output_type": "stream",
     "text": [
      "shape:  (2649430, 17771)\n"
     ]
    }
   ],
   "source": [
    "matriz_esparsa_treino = sparse.csr_matrix((df_treino.avaliacao.values, \n",
    "                                           (df_treino.usuario.values,\n",
    "                                            df_treino.filme.values)),)\n",
    "print('shape: ', matriz_esparsa_treino.shape)\n",
    "sparse.save_npz(\"archive/matriz_esparsa_treino.npz\", matriz_esparsa_treino)"
   ]
  },
  {
   "cell_type": "markdown",
   "metadata": {},
   "source": [
    "###### Cálculo da esparsidade da matriz"
   ]
  },
  {
   "cell_type": "code",
   "execution_count": 29,
   "metadata": {},
   "outputs": [
    {
     "name": "stdout",
     "output_type": "stream",
     "text": [
      "Esparsidade: 99.8292709259195\n"
     ]
    }
   ],
   "source": [
    "linhas, colunas = matriz_esparsa_treino.shape\n",
    "elementos_nao_zero = matriz_esparsa_treino.count_nonzero()\n",
    "print('Esparsidade:', (1 - (elementos_nao_zero / (linhas * colunas))) * 100)"
   ]
  },
  {
   "cell_type": "markdown",
   "metadata": {},
   "source": [
    "###### ---------------------------------------------------------------------------------------------------------------------------------------------------------------------------------------------"
   ]
  },
  {
   "cell_type": "markdown",
   "metadata": {},
   "source": [
    "### Teste"
   ]
  },
  {
   "cell_type": "code",
   "execution_count": 30,
   "metadata": {},
   "outputs": [
    {
     "name": "stdout",
     "output_type": "stream",
     "text": [
      "shape:  (2649430, 17771)\n"
     ]
    }
   ],
   "source": [
    "matriz_esparsa_teste = sparse.csr_matrix((df_teste.avaliacao.values, (df_teste.usuario.values,\n",
    "                                                              df_teste.filme.values)),)\n",
    "print('shape: ', matriz_esparsa_teste.shape)\n",
    "sparse.save_npz(\"archive/matriz_esparsa_teste.npz\", matriz_esparsa_teste)"
   ]
  },
  {
   "cell_type": "markdown",
   "metadata": {},
   "source": [
    "###### Cálculo da esparsidade da matriz"
   ]
  },
  {
   "cell_type": "code",
   "execution_count": 31,
   "metadata": {},
   "outputs": [
    {
     "name": "stdout",
     "output_type": "stream",
     "text": [
      "Esparsidade: 99.95731772988694\n"
     ]
    }
   ],
   "source": [
    "linhas, colunas = matriz_esparsa_teste.shape\n",
    "elementos_nao_zero = matriz_esparsa_teste.count_nonzero()\n",
    "print('Esparsidade:', (1 - (elementos_nao_zero / (linhas * colunas))) * 100)"
   ]
  },
  {
   "cell_type": "markdown",
   "metadata": {},
   "source": [
    "###### ---------------------------------------------------------------------------------------------------------------------------------------------------------------------------------------------"
   ]
  },
  {
   "cell_type": "markdown",
   "metadata": {},
   "source": [
    "#### Função para cálculo da média de avaliações por usuário e por filme"
   ]
  },
  {
   "cell_type": "code",
   "execution_count": 32,
   "metadata": {},
   "outputs": [
    {
     "data": {
      "text/plain": [
       "{'global': 3.5828520594262034}"
      ]
     },
     "execution_count": 32,
     "metadata": {},
     "output_type": "execute_result"
    }
   ],
   "source": [
    "# Abaixo calculamos a média global de todas as avaliações de usuários.\n",
    "medias_treino = dict()\n",
    "medias_treino_global = matriz_esparsa_treino.sum() / matriz_esparsa_treino.count_nonzero() #nonzero -- retira zeros para cálculo\n",
    "medias_treino['global'] = medias_treino_global\n",
    "medias_treino"
   ]
  },
  {
   "cell_type": "code",
   "execution_count": 33,
   "metadata": {},
   "outputs": [],
   "source": [
    "# Função de cálculo da média\n",
    "def calcula_media_avaliacoes(sparse_matrix, of_users):\n",
    "    \n",
    "    # Média de avaliações de usuários/eixos\n",
    "    # 1 = eixo de usuário\n",
    "    # 0 = eixo de filme\n",
    "    ax = 1 if of_users else 0\n",
    "\n",
    "    # Soma\n",
    "    sum_of_ratings = sparse_matrix.sum(axis=ax).A1\n",
    "    \n",
    "    # Matriz booleana de avaliações ( se um usuário avaliou um filme ou não )\n",
    "    is_rated = sparse_matrix!=0\n",
    "    \n",
    "    # Número de avaliações de cada usuário ou filme\n",
    "    no_of_ratings = is_rated.sum(axis=ax).A1\n",
    "    \n",
    "    # Ids máximos de usuário e filmes na matriz esparsa\n",
    "    u, m = sparse_matrix.shape\n",
    "    \n",
    "    # Criamos um dicionário de usuários e suas avaliações médias.\n",
    "    media_aval = {i:sum_of_ratings[i]/no_of_ratings[i] for i in range(u if of_users else m) if no_of_ratings[i]!=0}\n",
    "\n",
    "    # Retorna o dicionário de médias de avaliações\n",
    "    return media_aval"
   ]
  },
  {
   "cell_type": "code",
   "execution_count": 34,
   "metadata": {},
   "outputs": [],
   "source": [
    "# Média de avaliações de usuários\n",
    "medias_treino['usuario'] = calcula_media_avaliacoes(matriz_esparsa_treino, of_users = True)"
   ]
  },
  {
   "cell_type": "code",
   "execution_count": 35,
   "metadata": {},
   "outputs": [
    {
     "name": "stdout",
     "output_type": "stream",
     "text": [
      "Média de Avaliação do Usuário 10 : 3.399014778325123\n"
     ]
    }
   ],
   "source": [
    "print('Média de Avaliação do Usuário 10 :', medias_treino['usuario'][10])"
   ]
  },
  {
   "cell_type": "code",
   "execution_count": 36,
   "metadata": {},
   "outputs": [],
   "source": [
    "# Média de avaliações por filme\n",
    "medias_treino['filme'] =  calcula_media_avaliacoes(matriz_esparsa_treino, of_users = False)"
   ]
  },
  {
   "cell_type": "code",
   "execution_count": 37,
   "metadata": {},
   "outputs": [
    {
     "name": "stdout",
     "output_type": "stream",
     "text": [
      "Média de Avaliação do filme 10 : 3.1945701357466065\n"
     ]
    }
   ],
   "source": [
    "print('Média de Avaliação do filme 10 :', medias_treino['filme'][10])"
   ]
  },
  {
   "cell_type": "code",
   "execution_count": 38,
   "metadata": {},
   "outputs": [
    {
     "data": {
      "image/png": "[encoded data removed]",
      "text/plain": [
       "<Figure size 576x288 with 1 Axes>"
      ]
     },
     "metadata": {
      "needs_background": "light"
     },
     "output_type": "display_data"
    }
   ],
   "source": [
    "fig = plt.figure(figsize=plt.figaspect(.5))\n",
    "ax = plt.gca()\n",
    "plt.title('Médias de Avaliações Por Usuário')\n",
    "medias_usuarios = [rat for rat in medias_treino['usuario'].values()]\n",
    "\n",
    "sns.distplot(medias_usuarios, ax = ax, hist = False, kde_kws = dict(cumulative = True), label = 'CDF')\n",
    "sns.distplot(medias_usuarios, ax = ax, hist = False, label = 'PDF')\n",
    "\n",
    "plt.show()"
   ]
  },
  {
   "cell_type": "code",
   "execution_count": 39,
   "metadata": {},
   "outputs": [
    {
     "data": {
      "image/png": "[encoded data removed]",
      "text/plain": [
       "<Figure size 576x288 with 1 Axes>"
      ]
     },
     "metadata": {
      "needs_background": "light"
     },
     "output_type": "display_data"
    }
   ],
   "source": [
    "fig = plt.figure(figsize=plt.figaspect(.5))\n",
    "ax = plt.gca()\n",
    "plt.title('Médias de Avaliações Por Filmes')\n",
    "medias_filmes = [rat for rat in medias_treino['filme'].values()]\n",
    "\n",
    "sns.distplot(medias_filmes, ax = ax, hist = False, kde_kws = dict(cumulative = True), label = 'CDF')\n",
    "sns.distplot(medias_filmes, ax = ax, hist = False, label = 'PDF')\n",
    "\n",
    "plt.show()"
   ]
  },
  {
   "cell_type": "markdown",
   "metadata": {},
   "source": [
    "# --------------------------------------------------------------------------------------------------------"
   ]
  },
  {
   "cell_type": "markdown",
   "metadata": {},
   "source": [
    "# Problema do cold start\n",
    "    É a situação em que encontramos novas amostras, ou com baixa popularidade por não ter dados suficiente para recomendar e acaba deixando eles fora das recomendações. O filme pode não ter aparecido na base de treino e só aparecer na de teste, por exemplo. O problema de recomendação de filmes novos é chamado de Cold Start Problem."
   ]
  },
  {
   "cell_type": "code",
   "execution_count": 40,
   "metadata": {},
   "outputs": [],
   "source": [
    "df = pd.read_csv('archive/dataset.csv', sep = ',', names = ['filme', 'usuario', 'avaliacao', 'data'])\n",
    "total_de_usuarios = len(np.unique(df.usuario))\n",
    "total_de_filmes = len(np.unique(df.filme))\n",
    "del(df)"
   ]
  },
  {
   "cell_type": "code",
   "execution_count": 41,
   "metadata": {},
   "outputs": [],
   "source": [
    "usuarios_treino = len(medias_treino['usuario'])\n",
    "novos_usuarios = total_de_usuarios - usuarios_treino"
   ]
  },
  {
   "cell_type": "code",
   "execution_count": 42,
   "metadata": {},
   "outputs": [
    {
     "name": "stdout",
     "output_type": "stream",
     "text": [
      "Total Geral de Usuários: 480189\n",
      "Total de Usuários em Treino : 405035\n",
      "Total de Usuários Que Não Estão em Treino: 75154 (15.65%)\n"
     ]
    }
   ],
   "source": [
    "# Print\n",
    "print('Total Geral de Usuários:', total_de_usuarios)\n",
    "print('Total de Usuários em Treino :', usuarios_treino)\n",
    "print(\"Total de Usuários Que Não Estão em Treino: {} ({}%)\".format(novos_usuarios,\n",
    "                                                                   np.round((novos_usuarios / total_de_usuarios) * 100, 2)))"
   ]
  },
  {
   "cell_type": "markdown",
   "metadata": {},
   "source": [
    "75148 usuários não fazem parte dos dados de treino, ou seja, não temos como aprender o padrão de avaliação desses usuários."
   ]
  },
  {
   "cell_type": "code",
   "execution_count": 43,
   "metadata": {},
   "outputs": [],
   "source": [
    "# Cold start de filmes\n",
    "filmes_treino = len(medias_treino['filme'])\n",
    "novos_filmes = total_de_filmes - filmes_treino"
   ]
  },
  {
   "cell_type": "code",
   "execution_count": 44,
   "metadata": {},
   "outputs": [
    {
     "name": "stdout",
     "output_type": "stream",
     "text": [
      "Total Geral de Filmes: 17770\n",
      "Total de Filmes em Treino: 17425\n",
      "Total de Filmes Que Não Estão em Treino: 345 (1.94%)\n"
     ]
    }
   ],
   "source": [
    "# Print\n",
    "print('Total Geral de Filmes:', total_de_filmes)\n",
    "print('Total de Filmes em Treino:', filmes_treino)\n",
    "print(\"Total de Filmes Que Não Estão em Treino: {} ({}%)\".format(novos_filmes,\n",
    "                                                                 np.round((novos_filmes/total_de_filmes)*100, 2)))"
   ]
  },
  {
   "cell_type": "markdown",
   "metadata": {},
   "source": [
    "346 filmes não aparecem nos dados de treino."
   ]
  },
  {
   "cell_type": "markdown",
   "metadata": {},
   "source": [
    "# --------------------------------------------------------------------------------------------------------"
   ]
  },
  {
   "cell_type": "markdown",
   "metadata": {},
   "source": [
    "# Cálculo da similaridade\n",
    "    Calcular similaridade entre usuário e entre filme, juntar isso e fazer as recomendações"
   ]
  },
  {
   "cell_type": "code",
   "execution_count": 45,
   "metadata": {},
   "outputs": [],
   "source": [
    "def calcula_similaridade_usuario(sparse_matrix, \n",
    "                                 compute_for_few = False, \n",
    "                                 top = 100, \n",
    "                                 verbose = False, \n",
    "                                 verb_for_n_rows = 20,\n",
    "                                 draw_time_taken = True):\n",
    "    '''\n",
    "    Utilização da Matriz esparsa para cálculos, por quê?\n",
    "    Temos que trabalhar com esparsidade neste caso, porque não temos avaliação para todos os filmes\n",
    "    '''\n",
    "    \n",
    "    # Variáveis de controle\n",
    "    no_of_users, _ = sparse_matrix.shape\n",
    "    row_ind, col_ind = sparse_matrix.nonzero()\n",
    "    row_ind = sorted(set(row_ind)) \n",
    "    time_taken = list()\n",
    "    rows, cols, data = list(), list(), list()\n",
    "    if verbose: print(\"Calculando top\", top, \"similaridades para cada usuário...\")\n",
    "    start = datetime.now()\n",
    "    temp = 0\n",
    "    \n",
    "    # Loop pela matriz\n",
    "    for row in row_ind[:top] if compute_for_few else row_ind:\n",
    "        temp = temp + 1\n",
    "        prev = datetime.now()\n",
    "        \n",
    "        # Calculando a similaridade de cosseno\n",
    "        # pega uma linha inteira da matriz esparsa e calcula a similaridade para toda a matriz\n",
    "        sim = cosine_similarity(sparse_matrix.getrow(row), sparse_matrix).ravel()\n",
    "        \n",
    "        top_sim_ind = sim.argsort()[-top:]\n",
    "        top_sim_val = sim[top_sim_ind]\n",
    "        rows.extend([row]*top)\n",
    "        cols.extend(top_sim_ind)\n",
    "        data.extend(top_sim_val)\n",
    "        time_taken.append(datetime.now().timestamp() - prev.timestamp())\n",
    "        \n",
    "        if verbose:\n",
    "            if temp%verb_for_n_rows == 0:\n",
    "                print(\"Cálculo concluído para {} usuários [  tempo total : {}  ]\".format(temp, datetime.now()-start))\n",
    "            \n",
    "    if verbose: print('Criação de matriz esparsa a partir das semelhanças computadas...')    \n",
    "        \n",
    "    if draw_time_taken:\n",
    "        plt.plot(time_taken, label = 'Tempo de cálculo de cada usuário')\n",
    "        plt.plot(np.cumsum(time_taken), label = 'Tempo Total')\n",
    "        plt.legend(loc = 'best')\n",
    "        plt.xlabel('Usuário')\n",
    "        plt.ylabel('Tempo (segundos)')\n",
    "        plt.show()\n",
    "        \n",
    "    return sparse.csr_matrix((data, (rows, cols)), shape = (no_of_users, no_of_users)), time_taken      "
   ]
  },
  {
   "cell_type": "code",
   "execution_count": 46,
   "metadata": {},
   "outputs": [],
   "source": [
    "from sklearn.metrics.pairwise import cosine_similarity"
   ]
  },
  {
   "cell_type": "code",
   "execution_count": 47,
   "metadata": {},
   "outputs": [
    {
     "name": "stdout",
     "output_type": "stream",
     "text": [
      "Calculando top 100 similaridades para cada usuário...\n",
      "Cálculo concluído para 20 usuários [  tempo total : 0:01:08.803024  ]\n",
      "Cálculo concluído para 40 usuários [  tempo total : 0:02:16.994452  ]\n",
      "Cálculo concluído para 60 usuários [  tempo total : 0:03:24.592038  ]\n",
      "Cálculo concluído para 80 usuários [  tempo total : 0:04:32.285767  ]\n",
      "Cálculo concluído para 100 usuários [  tempo total : 0:05:41.967959  ]\n",
      "Criação de matriz esparsa a partir das semelhanças computadas...\n"
     ]
    },
    {
     "data": {
      "image/png": "[encoded data removed]",
      "text/plain": [
       "<Figure size 432x288 with 1 Axes>"
      ]
     },
     "metadata": {
      "needs_background": "light"
     },
     "output_type": "display_data"
    },
    {
     "name": "stdout",
     "output_type": "stream",
     "text": [
      "Tempo execução: 0:05:53.769401\n"
     ]
    }
   ],
   "source": [
    "begin = datetime.now()\n",
    "\n",
    "# Aplicando função\n",
    "matriz_esparsa_user, _ = calcula_similaridade_usuario(matriz_esparsa_treino, \n",
    "                                                      compute_for_few = True, \n",
    "                                                      top = 100, \n",
    "                                                      verbose = True)\n",
    "\n",
    "print('Tempo execução:', datetime.now() - begin)"
   ]
  },
  {
   "cell_type": "code",
   "execution_count": 48,
   "metadata": {},
   "outputs": [
    {
     "data": {
      "text/plain": [
       "405035"
      ]
     },
     "execution_count": 48,
     "metadata": {},
     "output_type": "execute_result"
    }
   ],
   "source": [
    "df_treino.usuario.nunique()"
   ]
  },
  {
   "cell_type": "markdown",
   "metadata": {},
   "source": [
    "Como tem muitos usuários, ficaria mto demorado. \n",
    "\n",
    "Tentar reduzir as dimensões usando SVD, para acelerar o processo."
   ]
  },
  {
   "cell_type": "markdown",
   "metadata": {},
   "source": [
    "# Redução de dimensionalidade\n",
    "    Aprendizado não supervisionado\n",
    "    \n",
    "    Tranformar todas as dimensões em um número menor de componente, reduzindo assim, a dimensionalidade da matriz. Obtendo um espaço vetorial menor, assim o tempo de processamento será menor tbm."
   ]
  },
  {
   "cell_type": "code",
   "execution_count": 51,
   "metadata": {},
   "outputs": [
    {
     "data": {
      "text/plain": [
       "scipy.sparse.csr.csr_matrix"
      ]
     },
     "execution_count": 51,
     "metadata": {},
     "output_type": "execute_result"
    }
   ],
   "source": [
    "type(matriz_esparsa_treino)"
   ]
  },
  {
   "cell_type": "code",
   "execution_count": 52,
   "metadata": {},
   "outputs": [
    {
     "name": "stdout",
     "output_type": "stream",
     "text": [
      "Tempo Total de Processamento: 0:21:43.836453\n"
     ]
    }
   ],
   "source": [
    "# Redução de dimensionalidade\n",
    "\n",
    "# Marca o início\n",
    "start = datetime.now()\n",
    "\n",
    "# Cria o objeto -- 500 dimensões\n",
    "netflix_svd = TruncatedSVD(n_components = 500, algorithm = 'randomized', random_state = 15)\n",
    "\n",
    "# Aplica o TruncatedSVD\n",
    "trunc_svd = netflix_svd.fit_transform(matriz_esparsa_treino)\n",
    "\n",
    "print(\"Tempo Total de Processamento:\", datetime.now() - start)"
   ]
  },
  {
   "cell_type": "markdown",
   "metadata": {},
   "source": [
    "### Tínhamos cerca de 17 mil dimensões, matriz esparsa enorme, quase inviável trabalhar com esse objeto. Reduzimos para 500 dimensões aplicando TruncatedSVD. Mas precisamos avaliar se com 500 conseguimos explicar a variância dos dados"
   ]
  },
  {
   "cell_type": "code",
   "execution_count": 53,
   "metadata": {},
   "outputs": [],
   "source": [
    "# Variância explicada\n",
    "expl_var = np.cumsum(netflix_svd.explained_variance_ratio_)"
   ]
  },
  {
   "cell_type": "code",
   "execution_count": 54,
   "metadata": {
    "scrolled": true
   },
   "outputs": [
    {
     "data": {
      "image/png": "[encoded data removed]",
      "text/plain": [
       "<Figure size 640x288 with 1 Axes>"
      ]
     },
     "metadata": {
      "needs_background": "light"
     },
     "output_type": "display_data"
    }
   ],
   "source": [
    "# Plot\n",
    "fig, (ax1) = plt.subplots(nrows = 1, ncols = 1, figsize = plt.figaspect(.45))\n",
    "\n",
    "ax1.set_ylabel(\"Variância Explicada\", fontsize = 15)\n",
    "ax1.set_xlabel(\"Fatores Latentes\", fontsize = 15)\n",
    "ax1.plot(expl_var)\n",
    "\n",
    "# Vamos marcar algumas combinações de (fatores latentes, variância explicada) para tornar o gráfico mais claro\n",
    "ind = [1, 2, 4, 8, 20, 60, 100, 200, 300, 400, 500]\n",
    "ax1.scatter(x = [i-1 for i in ind], y = expl_var[[i-1 for i in ind]], c = '#ee4422')\n",
    "\n",
    "for i in ind:\n",
    "    ax1.annotate(s =\"({}, {})\".format(i,  np.round(expl_var[i-1], 2)), xy = (i-1, expl_var[i-1]),\n",
    "                xytext = ( i+20, expl_var[i-1] - 0.01), fontweight = 'bold')\n",
    "\n",
    "plt.show()"
   ]
  },
  {
   "cell_type": "markdown",
   "metadata": {},
   "source": [
    "Com 500 componentes explicamos aproximadamente 65% da variância dos dados. \n",
    "\n",
    "65% é pouco? Depende. Tem capacidade computacional pra mais? Então aumenta. Mas com 65% conseguimos explicar mais da metade da variância dos dados, é razoável.\n",
    "\n",
    "Tem que avaliar o custo (computacional) x benefício (explicabilidade da variância)"
   ]
  },
  {
   "cell_type": "markdown",
   "metadata": {},
   "source": [
    "#### Vamos projetar nossa matriz no espaço de 500 dimensões. É como se a informação fosse compactada. Tem um perda, mas ainda sim é possível explicar 65% da variância"
   ]
  },
  {
   "cell_type": "code",
   "execution_count": 55,
   "metadata": {},
   "outputs": [
    {
     "name": "stdout",
     "output_type": "stream",
     "text": [
      "Tempo de Processamento: 0:00:27.248515\n"
     ]
    }
   ],
   "source": [
    "start = datetime.now()\n",
    "trunc_matrix = matriz_esparsa_treino.dot(netflix_svd.components_.T)\n",
    "print(\"Tempo de Processamento:\", datetime.now() - start)"
   ]
  },
  {
   "cell_type": "code",
   "execution_count": 56,
   "metadata": {},
   "outputs": [
    {
     "data": {
      "text/plain": [
       "(2649430, 500)"
      ]
     },
     "execution_count": 56,
     "metadata": {},
     "output_type": "execute_result"
    }
   ],
   "source": [
    "# Shape\n",
    "trunc_matrix.shape"
   ]
  },
  {
   "cell_type": "code",
   "execution_count": 60,
   "metadata": {},
   "outputs": [],
   "source": [
    "# Vamos criar e salvar em disco a matriz com a a dimensionalidade reduzida para 500 dimensões\n",
    "matriz_esparsa_user_truncada = sparse.csr_matrix(trunc_matrix)\n",
    "sparse.save_npz('archive/matriz_esparsa_user_truncada', matriz_esparsa_user_truncada)"
   ]
  },
  {
   "cell_type": "code",
   "execution_count": 61,
   "metadata": {},
   "outputs": [
    {
     "data": {
      "text/plain": [
       "(2649430, 500)"
      ]
     },
     "execution_count": 61,
     "metadata": {},
     "output_type": "execute_result"
    }
   ],
   "source": [
    "# Conferindo o shape\n",
    "matriz_esparsa_user_truncada.shape"
   ]
  },
  {
   "cell_type": "markdown",
   "metadata": {},
   "source": [
    "Calculando novamente a similaridade de usuários usando a matriz reduzida (truncada)."
   ]
  },
  {
   "cell_type": "markdown",
   "metadata": {},
   "source": [
    "-> Tinha uma matriz com cerca de 17 mil dimensões\n",
    "\n",
    "-> Aplica a redução de dimensionalidade\n",
    "\n",
    "-> Fica com uma matriz compactada de tamanho menor\n",
    "\n",
    "-> Usa essa matriz reduzida para cálculo de similaridade"
   ]
  },
  {
   "cell_type": "code",
   "execution_count": 62,
   "metadata": {
    "scrolled": false
   },
   "outputs": [
    {
     "name": "stdout",
     "output_type": "stream",
     "text": [
      "Calculando top 50 similaridades para cada usuário...\n",
      "Cálculo concluído para 20 usuários [  tempo total : 0:01:49.585308  ]\n",
      "Cálculo concluído para 40 usuários [  tempo total : 0:03:39.617068  ]\n",
      "Criação de matriz esparsa a partir das semelhanças computadas...\n"
     ]
    },
    {
     "data": {
      "image/png": "[encoded data removed]",
      "text/plain": [
       "<Figure size 432x288 with 1 Axes>"
      ]
     },
     "metadata": {
      "needs_background": "light"
     },
     "output_type": "display_data"
    },
    {
     "name": "stdout",
     "output_type": "stream",
     "text": [
      "Tempo de Processamento: 0:05:10.835097\n"
     ]
    }
   ],
   "source": [
    "# Calcula similaridade de usuários com a matriz truncada\n",
    "\n",
    "# Marca o início\n",
    "start = datetime.now()\n",
    "\n",
    "# Calcula a similaridade\n",
    "trunc_sim_matrix, _ = calcula_similaridade_usuario(matriz_esparsa_user_truncada, \n",
    "                                                   compute_for_few = True, \n",
    "                                                   top = 50, \n",
    "                                                   verbose = True) \n",
    "\n",
    "print(\"Tempo de Processamento:\", datetime.now() - start)"
   ]
  },
  {
   "cell_type": "markdown",
   "metadata": {},
   "source": [
    "Até aqui foi feito o cálculo de similaridade entre os usuários (matriz enorme). Agora será necessário calcular a similaridade entre os filmes (menor, porque temos menos filmes que usuários)."
   ]
  },
  {
   "cell_type": "markdown",
   "metadata": {},
   "source": [
    "### Calculando Matriz de Similaridade de Filmes\n",
    "    Tem o problema da dimensionalidade para os filmes? Nesse caso não!!! Por quê? Porque temos uma quantidade muito maior de usuários do que de filmes."
   ]
  },
  {
   "cell_type": "code",
   "execution_count": 63,
   "metadata": {},
   "outputs": [
    {
     "name": "stdout",
     "output_type": "stream",
     "text": [
      "Matriz Criada.\n",
      "Matriz Salva em Disco.\n",
      "Tempo de Processamento: 0:10:28.655453\n"
     ]
    }
   ],
   "source": [
    "# Cálculo da similaridade de filmes\n",
    "\n",
    "# Marca o início\n",
    "start = datetime.now()\n",
    "\n",
    "matriz_esparsa_filme = cosine_similarity(X = matriz_esparsa_treino.T, dense_output = False)\n",
    "print(\"Matriz Criada.\")\n",
    "sparse.save_npz(\"archive/matriz_esparsa_filme.npz\", matriz_esparsa_filme)\n",
    "print(\"Matriz Salva em Disco.\")\n",
    "\n",
    "print(\"Tempo de Processamento:\", datetime.now() - start)"
   ]
  },
  {
   "cell_type": "code",
   "execution_count": 75,
   "metadata": {},
   "outputs": [
    {
     "data": {
      "text/plain": [
       "(17771, 17771)"
      ]
     },
     "execution_count": 75,
     "metadata": {},
     "output_type": "execute_result"
    }
   ],
   "source": [
    "matriz_esparsa_filme.shape"
   ]
  },
  {
   "cell_type": "markdown",
   "metadata": {},
   "source": [
    "Dimensões bem menores. De novo, porque temos uma quantidade de filmes bem menor que a quantidade de usuários."
   ]
  },
  {
   "cell_type": "code",
   "execution_count": 64,
   "metadata": {},
   "outputs": [],
   "source": [
    "# Extra os ids dos filmes\n",
    "movie_ids = np.unique(matriz_esparsa_filme.nonzero()[1])"
   ]
  },
  {
   "cell_type": "markdown",
   "metadata": {},
   "source": [
    "### Proxima etapa é calcular a similaridade de filmes, de acordo com o padrão de avaliação dos usuários.\n",
    "   \n",
    "   **>>Unir as duas coisas**\n",
    "   \n",
    "   **>>similaridade de filmes com similaridade de usuários**"
   ]
  },
  {
   "cell_type": "code",
   "execution_count": 66,
   "metadata": {},
   "outputs": [
    {
     "name": "stdout",
     "output_type": "stream",
     "text": [
      "Tempo de Processamento: 0:00:29.651928\n"
     ]
    }
   ],
   "source": [
    "start = datetime.now()\n",
    "\n",
    "# Dicionário para armazenar as similaridades\n",
    "filmes_similares = dict()\n",
    "\n",
    "# Loop pelos ids dos filmes\n",
    "for movie in movie_ids:\n",
    "    # Obtemos os top filmes semelhantes e armazenamos no dicionário\n",
    "    filmes_sim = matriz_esparsa_filme[movie].toarray().ravel().argsort()[::-1][1:]\n",
    "    filmes_similares[movie] = filmes_sim[:100]\n",
    "    \n",
    "print(\"Tempo de Processamento:\", datetime.now() - start)"
   ]
  },
  {
   "cell_type": "code",
   "execution_count": 79,
   "metadata": {},
   "outputs": [
    {
     "data": {
      "text/plain": [
       "array([13003,  5995,  1282, 13832, 10635,  7626, 11423, 14121,  3981,\n",
       "       17344, 13469, 13737, 13776, 17549,  9763, 12240,  5224,  4671,\n",
       "       13956, 16907, 14181,  2404, 11680, 14376,  5423,  1917,   352,\n",
       "       13674,  3623, 14009,  3378,  1446, 11101,  3221,   112,  3591,\n",
       "        9276, 11894, 12454, 11124,  5655,  6421,  6454,  3493, 13812,\n",
       "          11,  1292,  4363,  9094, 14830,  9048, 16359,  4863, 10786,\n",
       "       17754, 11428, 11660, 14645, 11655, 17457, 10391,  4581, 15404,\n",
       "          52, 17137, 17111,  3854,     6,  9372,  5372,  4559, 12110,\n",
       "        9704,  4244,   201,  2502, 13060,  6950, 15747,  9983, 11180,\n",
       "        7422,  8524,  3533, 10651,  7248, 10472,  2679, 10096,  6731,\n",
       "         534,  6905, 13757, 16503,  7567,  1235,  5911, 14304,  5194,\n",
       "        6551], dtype=int64)"
      ]
     },
     "execution_count": 79,
     "metadata": {},
     "output_type": "execute_result"
    }
   ],
   "source": [
    "# Filmes similares ao filme de id 10\n",
    "filmes_similares[10]"
   ]
  },
  {
   "cell_type": "markdown",
   "metadata": {},
   "source": [
    "#### Agora vamos encontrar os filmes mais semelhantes usando a matriz de similaridade."
   ]
  },
  {
   "cell_type": "code",
   "execution_count": 68,
   "metadata": {},
   "outputs": [
    {
     "name": "stdout",
     "output_type": "stream",
     "text": [
      "Tokenization took: 4.99 ms\n",
      "Type conversion took: 9.01 ms\n",
      "Parser memory cleanup took: 0.00 ms\n"
     ]
    }
   ],
   "source": [
    "# Vamos carregar os títulos dos filmes do arquivo csv fornecido pela Netflix\n",
    "titulos_filmes = pd.read_csv(\"archive/movie_titles.csv\", \n",
    "                             sep = ',', \n",
    "                             header = None,\n",
    "                             names = ['ID_Filme', 'Ano_Lancamento', 'Titulo'], \n",
    "                             verbose = True,\n",
    "                             index_col = 'ID_Filme', \n",
    "                             encoding = \"ISO-8859-1\")"
   ]
  },
  {
   "cell_type": "code",
   "execution_count": 69,
   "metadata": {},
   "outputs": [
    {
     "data": {
      "text/html": [
       "<div>\n",
       "<style scoped>\n",
       "    .dataframe tbody tr th:only-of-type {\n",
       "        vertical-align: middle;\n",
       "    }\n",
       "\n",
       "    .dataframe tbody tr th {\n",
       "        vertical-align: top;\n",
       "    }\n",
       "\n",
       "    .dataframe thead th {\n",
       "        text-align: right;\n",
       "    }\n",
       "</style>\n",
       "<table border=\"1\" class=\"dataframe\">\n",
       "  <thead>\n",
       "    <tr style=\"text-align: right;\">\n",
       "      <th></th>\n",
       "      <th>Ano_Lancamento</th>\n",
       "      <th>Titulo</th>\n",
       "    </tr>\n",
       "    <tr>\n",
       "      <th>ID_Filme</th>\n",
       "      <th></th>\n",
       "      <th></th>\n",
       "    </tr>\n",
       "  </thead>\n",
       "  <tbody>\n",
       "    <tr>\n",
       "      <th>1</th>\n",
       "      <td>2003.0</td>\n",
       "      <td>Dinosaur Planet</td>\n",
       "    </tr>\n",
       "    <tr>\n",
       "      <th>2</th>\n",
       "      <td>2004.0</td>\n",
       "      <td>Isle of Man TT 2004 Review</td>\n",
       "    </tr>\n",
       "    <tr>\n",
       "      <th>3</th>\n",
       "      <td>1997.0</td>\n",
       "      <td>Character</td>\n",
       "    </tr>\n",
       "    <tr>\n",
       "      <th>4</th>\n",
       "      <td>1994.0</td>\n",
       "      <td>Paula Abdul's Get Up &amp; Dance</td>\n",
       "    </tr>\n",
       "    <tr>\n",
       "      <th>5</th>\n",
       "      <td>2004.0</td>\n",
       "      <td>The Rise and Fall of ECW</td>\n",
       "    </tr>\n",
       "  </tbody>\n",
       "</table>\n",
       "</div>"
      ],
      "text/plain": [
       "          Ano_Lancamento                        Titulo\n",
       "ID_Filme                                              \n",
       "1                 2003.0               Dinosaur Planet\n",
       "2                 2004.0    Isle of Man TT 2004 Review\n",
       "3                 1997.0                     Character\n",
       "4                 1994.0  Paula Abdul's Get Up & Dance\n",
       "5                 2004.0      The Rise and Fall of ECW"
      ]
     },
     "execution_count": 69,
     "metadata": {},
     "output_type": "execute_result"
    }
   ],
   "source": [
    "# Visualiza os dados\n",
    "titulos_filmes.head()"
   ]
  },
  {
   "cell_type": "markdown",
   "metadata": {},
   "source": [
    "### Vejamos quais são os filmes similares ao filme de ID 43."
   ]
  },
  {
   "cell_type": "code",
   "execution_count": 84,
   "metadata": {},
   "outputs": [],
   "source": [
    "# ID do filme\n",
    "id_filme = 10"
   ]
  },
  {
   "cell_type": "code",
   "execution_count": 85,
   "metadata": {},
   "outputs": [
    {
     "name": "stdout",
     "output_type": "stream",
     "text": [
      "Filme: Fighter\n",
      "Total de Avaliações de Usuários = 221.\n",
      "Encontramos 17282 filmes que são similares a este e vamos imprimir os mais similares.\n"
     ]
    }
   ],
   "source": [
    "# Print\n",
    "print(\"Filme:\", titulos_filmes.loc[id_filme].values[1])\n",
    "print(\"Total de Avaliações de Usuários = {}.\".format(matriz_esparsa_treino[:,id_filme].getnnz()))\n",
    "print(\"Encontramos {} filmes que são similares a este e vamos imprimir os mais similares.\".format(matriz_esparsa_filme[:,id_filme].getnnz()))"
   ]
  },
  {
   "cell_type": "code",
   "execution_count": 86,
   "metadata": {},
   "outputs": [],
   "source": [
    "# Encontrando todas as similaridades\n",
    "similaridades = matriz_esparsa_filme[id_filme].toarray().ravel()\n",
    "similar_indices = similaridades.argsort()[::-1][1:]\n",
    "similaridades[similar_indices]\n",
    "sim_indices = similaridades.argsort()[::-1][1:] "
   ]
  },
  {
   "cell_type": "code",
   "execution_count": 87,
   "metadata": {},
   "outputs": [
    {
     "data": {
      "image/png": "[encoded data removed]",
      "text/plain": [
       "<Figure size 640x288 with 1 Axes>"
      ]
     },
     "metadata": {
      "needs_background": "light"
     },
     "output_type": "display_data"
    }
   ],
   "source": [
    "# Plot\n",
    "fig = plt.figure(figsize = plt.figaspect(.45))\n",
    "plt.plot(similaridades[sim_indices], label = 'Todas as Avaliações')\n",
    "plt.plot(similaridades[sim_indices[:100]], label = 'Top 100 Filmes Similares')\n",
    "plt.title(\"Filmes Similares ao Filme {}\".format(id_filme), fontsize = 25)\n",
    "plt.xlabel(\"Filmes\", fontsize = 15)\n",
    "plt.ylabel(\"Similaridade de Cosseno\", fontsize = 15)\n",
    "plt.legend()\n",
    "plt.show()"
   ]
  },
  {
   "cell_type": "code",
   "execution_count": 88,
   "metadata": {
    "scrolled": true
   },
   "outputs": [
    {
     "data": {
      "text/html": [
       "<div>\n",
       "<style scoped>\n",
       "    .dataframe tbody tr th:only-of-type {\n",
       "        vertical-align: middle;\n",
       "    }\n",
       "\n",
       "    .dataframe tbody tr th {\n",
       "        vertical-align: top;\n",
       "    }\n",
       "\n",
       "    .dataframe thead th {\n",
       "        text-align: right;\n",
       "    }\n",
       "</style>\n",
       "<table border=\"1\" class=\"dataframe\">\n",
       "  <thead>\n",
       "    <tr style=\"text-align: right;\">\n",
       "      <th></th>\n",
       "      <th>Ano_Lancamento</th>\n",
       "      <th>Titulo</th>\n",
       "    </tr>\n",
       "    <tr>\n",
       "      <th>ID_Filme</th>\n",
       "      <th></th>\n",
       "      <th></th>\n",
       "    </tr>\n",
       "  </thead>\n",
       "  <tbody>\n",
       "    <tr>\n",
       "      <th>13003</th>\n",
       "      <td>1999.0</td>\n",
       "      <td>The Jaundiced Eye</td>\n",
       "    </tr>\n",
       "    <tr>\n",
       "      <th>5995</th>\n",
       "      <td>1997.0</td>\n",
       "      <td>The Long Way Home</td>\n",
       "    </tr>\n",
       "    <tr>\n",
       "      <th>1282</th>\n",
       "      <td>2002.0</td>\n",
       "      <td>Blind Spot: Hitler's Secretary</td>\n",
       "    </tr>\n",
       "    <tr>\n",
       "      <th>13832</th>\n",
       "      <td>1999.0</td>\n",
       "      <td>Keep the River on Your Right: A Modern Canniba...</td>\n",
       "    </tr>\n",
       "    <tr>\n",
       "      <th>10635</th>\n",
       "      <td>2001.0</td>\n",
       "      <td>Go Tigers!</td>\n",
       "    </tr>\n",
       "    <tr>\n",
       "      <th>7626</th>\n",
       "      <td>2001.0</td>\n",
       "      <td>The Sweetest Sound</td>\n",
       "    </tr>\n",
       "    <tr>\n",
       "      <th>11423</th>\n",
       "      <td>1998.0</td>\n",
       "      <td>Little Dieter Needs to Fly</td>\n",
       "    </tr>\n",
       "    <tr>\n",
       "      <th>14121</th>\n",
       "      <td>2004.0</td>\n",
       "      <td>Deadline</td>\n",
       "    </tr>\n",
       "    <tr>\n",
       "      <th>3981</th>\n",
       "      <td>2003.0</td>\n",
       "      <td>S21: The Khmer Rouge Killing Machine</td>\n",
       "    </tr>\n",
       "    <tr>\n",
       "      <th>17344</th>\n",
       "      <td>1999.0</td>\n",
       "      <td>Creature</td>\n",
       "    </tr>\n",
       "  </tbody>\n",
       "</table>\n",
       "</div>"
      ],
      "text/plain": [
       "          Ano_Lancamento                                             Titulo\n",
       "ID_Filme                                                                   \n",
       "13003             1999.0                                  The Jaundiced Eye\n",
       "5995              1997.0                                  The Long Way Home\n",
       "1282              2002.0                     Blind Spot: Hitler's Secretary\n",
       "13832             1999.0  Keep the River on Your Right: A Modern Canniba...\n",
       "10635             2001.0                                         Go Tigers!\n",
       "7626              2001.0                                 The Sweetest Sound\n",
       "11423             1998.0                         Little Dieter Needs to Fly\n",
       "14121             2004.0                                           Deadline\n",
       "3981              2003.0               S21: The Khmer Rouge Killing Machine\n",
       "17344             1999.0                                           Creature"
      ]
     },
     "execution_count": 88,
     "metadata": {},
     "output_type": "execute_result"
    }
   ],
   "source": [
    "# Aqui os top 10 filmes mais similares ao filme 43\n",
    "titulos_filmes.loc[sim_indices[:10]]"
   ]
  },
  {
   "cell_type": "markdown",
   "metadata": {},
   "source": [
    "### Próximo passo - ML para fazer previsões"
   ]
  }
 ],
 "metadata": {
  "kernelspec": {
   "display_name": "Python 3",
   "language": "python",
   "name": "python3"
  },
  "language_info": {
   "codemirror_mode": {
    "name": "ipython",
    "version": 3
   },
   "file_extension": ".py",
   "mimetype": "text/x-python",
   "name": "python",
   "nbconvert_exporter": "python",
   "pygments_lexer": "ipython3",
   "version": "3.7.1"
  }
 },
 "nbformat": 4,
 "nbformat_minor": 4
}
