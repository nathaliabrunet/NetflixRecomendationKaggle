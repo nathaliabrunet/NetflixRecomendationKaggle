{
 "cells": [
  {
   "cell_type": "markdown",
   "metadata": {},
   "source": [
    "# Step 1 - Criando CSV\n",
    "    link para baixar arquivos: \n",
    "    \n",
    "   https://www.kaggle.com/netflix-inc/netflix-prize-data\n",
    "    \n",
    "    Junção dos 4 arquivos txts e criação de um único csv chamado \"dataset.csv\""
   ]
  },
  {
   "cell_type": "markdown",
   "metadata": {},
   "source": [
    "##### Imports"
   ]
  },
  {
   "cell_type": "code",
   "execution_count": 2,
   "metadata": {},
   "outputs": [],
   "source": [
    "import os\n",
    "import numpy as np\n",
    "import pandas as pd\n",
    "from datetime import datetime"
   ]
  },
  {
   "cell_type": "markdown",
   "metadata": {},
   "source": [
    "##### Carregando dados"
   ]
  },
  {
   "cell_type": "markdown",
   "metadata": {},
   "source": [
    "Listando o que tem no diretório"
   ]
  },
  {
   "cell_type": "code",
   "execution_count": null,
   "metadata": {},
   "outputs": [],
   "source": [
    "dir = 'archive/'\n",
    "lista_dir = os.listdir(dir)\n",
    "lista_dir"
   ]
  },
  {
   "cell_type": "code",
   "execution_count": null,
   "metadata": {},
   "outputs": [],
   "source": [
    "%%time\n",
    "begin = datetime.now()\n",
    "\n",
    "arquivos = [dir+'combined_data_1.txt',\n",
    "            dir+'combined_data_2.txt',\n",
    "            dir+'combined_data_3.txt',\n",
    "            dir+'combined_data_4.txt']\n",
    "\n",
    "# Cria e abre o arquivo para gravação\n",
    "dataset = open('archive/dataset.csv', mode = 'w')\n",
    "\n",
    "# Lista para as linhas dos arquivos\n",
    "linhas = list()\n",
    "\n",
    "for arquivo in arquivos:\n",
    "    print('Lendo ', (arquivo), ' ...')\n",
    "\n",
    "    # Com o arquivo aberto, extraímos as linhas\n",
    "    with open(arquivo) as f:\n",
    "\n",
    "        # Loop por cada linha do arquivo\n",
    "        for linha in f: \n",
    "\n",
    "            # Deletamos o conteúdo da lista\n",
    "            del linhas[:] \n",
    "\n",
    "            # Divide as linhas do arquivo pelo caracter de final de linha\n",
    "            linha = linha.strip()\n",
    "\n",
    "            # Se encontramos \"dois pontos\" ao final da linha, fazemos replace removendo o caracter,\n",
    "            # pois queremos apenas o id do filme\n",
    "            if linha.endswith(':'):\n",
    "                movie_id = linha.replace(':', '')\n",
    "\n",
    "            # Se não, criamos uma lista comprehension para fazer a separação das colunas por vírgula\n",
    "            else:\n",
    "\n",
    "                # Separa as colunas\n",
    "                linhas = [x for x in linha.split(',')]\n",
    "\n",
    "                # Usa o id do filme na posição de índice zero\n",
    "                linhas.insert(0, movie_id)\n",
    "\n",
    "                # Grava o resultado no novo arquivo\n",
    "                dataset.write(','.join(linhas))\n",
    "                dataset.write('\\n')\n",
    "\n",
    "dataset.close()\n",
    "print('Tempo de execução:', datetime.now() - begin)"
   ]
  },
  {
   "cell_type": "code",
   "execution_count": 4,
   "metadata": {},
   "outputs": [
    {
     "data": {
      "text/html": [
       "<div>\n",
       "<style scoped>\n",
       "    .dataframe tbody tr th:only-of-type {\n",
       "        vertical-align: middle;\n",
       "    }\n",
       "\n",
       "    .dataframe tbody tr th {\n",
       "        vertical-align: top;\n",
       "    }\n",
       "\n",
       "    .dataframe thead th {\n",
       "        text-align: right;\n",
       "    }\n",
       "</style>\n",
       "<table border=\"1\" class=\"dataframe\">\n",
       "  <thead>\n",
       "    <tr style=\"text-align: right;\">\n",
       "      <th></th>\n",
       "      <th>filme</th>\n",
       "      <th>usuario</th>\n",
       "      <th>avaliacao</th>\n",
       "      <th>data</th>\n",
       "    </tr>\n",
       "  </thead>\n",
       "  <tbody>\n",
       "    <tr>\n",
       "      <th>0</th>\n",
       "      <td>1</td>\n",
       "      <td>1488844</td>\n",
       "      <td>3</td>\n",
       "      <td>2005-09-06</td>\n",
       "    </tr>\n",
       "    <tr>\n",
       "      <th>1</th>\n",
       "      <td>1</td>\n",
       "      <td>822109</td>\n",
       "      <td>5</td>\n",
       "      <td>2005-05-13</td>\n",
       "    </tr>\n",
       "    <tr>\n",
       "      <th>2</th>\n",
       "      <td>1</td>\n",
       "      <td>885013</td>\n",
       "      <td>4</td>\n",
       "      <td>2005-10-19</td>\n",
       "    </tr>\n",
       "    <tr>\n",
       "      <th>3</th>\n",
       "      <td>1</td>\n",
       "      <td>30878</td>\n",
       "      <td>4</td>\n",
       "      <td>2005-12-26</td>\n",
       "    </tr>\n",
       "    <tr>\n",
       "      <th>4</th>\n",
       "      <td>1</td>\n",
       "      <td>823519</td>\n",
       "      <td>3</td>\n",
       "      <td>2004-05-03</td>\n",
       "    </tr>\n",
       "  </tbody>\n",
       "</table>\n",
       "</div>"
      ],
      "text/plain": [
       "   filme  usuario  avaliacao       data\n",
       "0      1  1488844          3 2005-09-06\n",
       "1      1   822109          5 2005-05-13\n",
       "2      1   885013          4 2005-10-19\n",
       "3      1    30878          4 2005-12-26\n",
       "4      1   823519          3 2004-05-03"
      ]
     },
     "execution_count": 4,
     "metadata": {},
     "output_type": "execute_result"
    }
   ],
   "source": [
    "df = pd.read_csv('archive/dataset.csv', sep = ',', names = ['filme', 'usuario', 'avaliacao', 'data'])\n",
    "df.data = pd.to_datetime(df.data)\n",
    "df.head()"
   ]
  },
  {
   "cell_type": "code",
   "execution_count": 5,
   "metadata": {},
   "outputs": [
    {
     "data": {
      "text/plain": [
       "(100480507, 4)"
      ]
     },
     "execution_count": 5,
     "metadata": {},
     "output_type": "execute_result"
    }
   ],
   "source": [
    "df.shape"
   ]
  },
  {
   "cell_type": "markdown",
   "metadata": {},
   "source": [
    "#### Quantidades"
   ]
  },
  {
   "cell_type": "code",
   "execution_count": 6,
   "metadata": {},
   "outputs": [
    {
     "name": "stdout",
     "output_type": "stream",
     "text": [
      "Quantidade de usuários avaliando: 480189\n",
      "Quantidade de filmes avaliados: 17770\n",
      "Quantidade de avaliações: 100480507\n"
     ]
    }
   ],
   "source": [
    "print('Quantidade de usuários avaliando:', df.usuario.nunique())\n",
    "print('Quantidade de filmes avaliados:', df.filme.nunique())\n",
    "print('Quantidade de avaliações:', df.shape[0])"
   ]
  },
  {
   "cell_type": "markdown",
   "metadata": {},
   "source": [
    "#### Período analisado"
   ]
  },
  {
   "cell_type": "code",
   "execution_count": 7,
   "metadata": {},
   "outputs": [
    {
     "name": "stdout",
     "output_type": "stream",
     "text": [
      "Data mínima: 1999-11-11 00:00:00\n",
      "Data máxima: 2005-12-31 00:00:00\n",
      "duração período 2242 days 00:00:00\n"
     ]
    }
   ],
   "source": [
    "print('Data mínima:', df.data.min())\n",
    "print('Data máxima:', df.data.max())\n",
    "print('duração período', (df.data.max()-df.data.min()))"
   ]
  },
  {
   "cell_type": "markdown",
   "metadata": {},
   "source": [
    "#### Verificando nulos"
   ]
  },
  {
   "cell_type": "code",
   "execution_count": 8,
   "metadata": {},
   "outputs": [
    {
     "data": {
      "text/plain": [
       "filme        0\n",
       "usuario      0\n",
       "avaliacao    0\n",
       "data         0\n",
       "dtype: int64"
      ]
     },
     "execution_count": 8,
     "metadata": {},
     "output_type": "execute_result"
    }
   ],
   "source": [
    "df.isnull().sum()"
   ]
  },
  {
   "cell_type": "markdown",
   "metadata": {},
   "source": [
    "#### Describe"
   ]
  },
  {
   "cell_type": "code",
   "execution_count": 9,
   "metadata": {},
   "outputs": [
    {
     "data": {
      "text/html": [
       "<div>\n",
       "<style scoped>\n",
       "    .dataframe tbody tr th:only-of-type {\n",
       "        vertical-align: middle;\n",
       "    }\n",
       "\n",
       "    .dataframe tbody tr th {\n",
       "        vertical-align: top;\n",
       "    }\n",
       "\n",
       "    .dataframe thead th {\n",
       "        text-align: right;\n",
       "    }\n",
       "</style>\n",
       "<table border=\"1\" class=\"dataframe\">\n",
       "  <thead>\n",
       "    <tr style=\"text-align: right;\">\n",
       "      <th></th>\n",
       "      <th>filme</th>\n",
       "      <th>usuario</th>\n",
       "      <th>avaliacao</th>\n",
       "    </tr>\n",
       "  </thead>\n",
       "  <tbody>\n",
       "    <tr>\n",
       "      <th>count</th>\n",
       "      <td>1.004805e+08</td>\n",
       "      <td>1.004805e+08</td>\n",
       "      <td>1.004805e+08</td>\n",
       "    </tr>\n",
       "    <tr>\n",
       "      <th>mean</th>\n",
       "      <td>9.070915e+03</td>\n",
       "      <td>1.322489e+06</td>\n",
       "      <td>3.604290e+00</td>\n",
       "    </tr>\n",
       "    <tr>\n",
       "      <th>std</th>\n",
       "      <td>5.131891e+03</td>\n",
       "      <td>7.645368e+05</td>\n",
       "      <td>1.085219e+00</td>\n",
       "    </tr>\n",
       "    <tr>\n",
       "      <th>min</th>\n",
       "      <td>1.000000e+00</td>\n",
       "      <td>6.000000e+00</td>\n",
       "      <td>1.000000e+00</td>\n",
       "    </tr>\n",
       "    <tr>\n",
       "      <th>25%</th>\n",
       "      <td>4.677000e+03</td>\n",
       "      <td>6.611980e+05</td>\n",
       "      <td>3.000000e+00</td>\n",
       "    </tr>\n",
       "    <tr>\n",
       "      <th>50%</th>\n",
       "      <td>9.051000e+03</td>\n",
       "      <td>1.319012e+06</td>\n",
       "      <td>4.000000e+00</td>\n",
       "    </tr>\n",
       "    <tr>\n",
       "      <th>75%</th>\n",
       "      <td>1.363500e+04</td>\n",
       "      <td>1.984455e+06</td>\n",
       "      <td>4.000000e+00</td>\n",
       "    </tr>\n",
       "    <tr>\n",
       "      <th>max</th>\n",
       "      <td>1.777000e+04</td>\n",
       "      <td>2.649429e+06</td>\n",
       "      <td>5.000000e+00</td>\n",
       "    </tr>\n",
       "  </tbody>\n",
       "</table>\n",
       "</div>"
      ],
      "text/plain": [
       "              filme       usuario     avaliacao\n",
       "count  1.004805e+08  1.004805e+08  1.004805e+08\n",
       "mean   9.070915e+03  1.322489e+06  3.604290e+00\n",
       "std    5.131891e+03  7.645368e+05  1.085219e+00\n",
       "min    1.000000e+00  6.000000e+00  1.000000e+00\n",
       "25%    4.677000e+03  6.611980e+05  3.000000e+00\n",
       "50%    9.051000e+03  1.319012e+06  4.000000e+00\n",
       "75%    1.363500e+04  1.984455e+06  4.000000e+00\n",
       "max    1.777000e+04  2.649429e+06  5.000000e+00"
      ]
     },
     "execution_count": 9,
     "metadata": {},
     "output_type": "execute_result"
    }
   ],
   "source": [
    "df.describe()"
   ]
  },
  {
   "cell_type": "markdown",
   "metadata": {},
   "source": [
    "#### Verificando duplicidade"
   ]
  },
  {
   "cell_type": "code",
   "execution_count": 10,
   "metadata": {},
   "outputs": [
    {
     "data": {
      "text/plain": [
       "0"
      ]
     },
     "execution_count": 10,
     "metadata": {},
     "output_type": "execute_result"
    }
   ],
   "source": [
    "sum(df.duplicated(['filme', 'usuario', 'avaliacao']))"
   ]
  },
  {
   "cell_type": "markdown",
   "metadata": {},
   "source": [
    "#### Verificando distribuição das avaliações"
   ]
  },
  {
   "cell_type": "code",
   "execution_count": 11,
   "metadata": {},
   "outputs": [
    {
     "data": {
      "text/plain": [
       "1    0.045959\n",
       "2    0.100836\n",
       "3    0.286735\n",
       "4    0.335896\n",
       "5    0.230574\n",
       "Name: avaliacao, dtype: float64"
      ]
     },
     "execution_count": 11,
     "metadata": {},
     "output_type": "execute_result"
    }
   ],
   "source": [
    "df.avaliacao.value_counts(normalize=True).sort_index()"
   ]
  },
  {
   "cell_type": "markdown",
   "metadata": {},
   "source": [
    "#### Média de avaliações"
   ]
  },
  {
   "cell_type": "code",
   "execution_count": 12,
   "metadata": {},
   "outputs": [
    {
     "data": {
      "text/plain": [
       "3.604289964420661"
      ]
     },
     "execution_count": 12,
     "metadata": {},
     "output_type": "execute_result"
    }
   ],
   "source": [
    "df.avaliacao.mean()"
   ]
  },
  {
   "cell_type": "code",
   "execution_count": 13,
   "metadata": {},
   "outputs": [],
   "source": [
    "import matplotlib.pyplot as plt\n",
    "import seaborn as sns"
   ]
  },
  {
   "cell_type": "code",
   "execution_count": 17,
   "metadata": {},
   "outputs": [
    {
     "name": "stderr",
     "output_type": "stream",
     "text": [
      "C:\\ProgramData\\Anaconda3\\lib\\site-packages\\seaborn\\_decorators.py:43: FutureWarning: Pass the following variable as a keyword arg: x. From version 0.12, the only valid positional argument will be `data`, and passing other arguments without an explicit keyword will result in an error or misinterpretation.\n",
      "  FutureWarning\n"
     ]
    },
    {
     "data": {
      "image/png": "[encoded data removed]",
      "text/plain": [
       "<Figure size 432x288 with 1 Axes>"
      ]
     },
     "metadata": {
      "needs_background": "light"
     },
     "output_type": "display_data"
    },
    {
     "name": "stdout",
     "output_type": "stream",
     "text": [
      "----------------------------------------------------------------------------------------------------\n"
     ]
    }
   ],
   "source": [
    "# Plot\n",
    "fig, ax = plt.subplots()\n",
    "plt.title('Distribuição das Avaliaçõoes', fontsize = 15)\n",
    "sns.countplot(df.avaliacao)\n",
    "ax.set_ylabel('Número de Avaliações')\n",
    "plt.show()\n",
    "print('-'*100)"
   ]
  },
  {
   "cell_type": "markdown",
   "metadata": {},
   "source": [
    "### Criando csv de treino e teste para olhar só p/ o de treino por causa do tamanho dos arquivos, p/ otimizar processamento"
   ]
  },
  {
   "cell_type": "markdown",
   "metadata": {},
   "source": [
    "#### 80 treino:20 teste"
   ]
  },
  {
   "cell_type": "code",
   "execution_count": 25,
   "metadata": {},
   "outputs": [],
   "source": [
    "# Ordenando \n",
    "df.sort_values(by = 'data', inplace = True)\n",
    "\n",
    "#guarando um csv com dados de treino para otimizar processamento na análise\n",
    "#df.iloc[:int(df.shape[0] * 0.80)].to_csv(\"archive/dataset_treino.csv\", index = False)\n",
    "df.iloc[:int(df.shape[0] * 0.80)].to_csv('archive/dataset_treino.csv.gz'\n",
    "                                         , header=True\n",
    "                                         , index=False\n",
    "                                         , chunksize=1000000\n",
    "                                         , compression='gzip'\n",
    "                                         , encoding='utf-8')\n",
    "\n",
    "#guarando um csv com dados de treino para otimizar processamento na análise\n",
    "#df.iloc[int(df.shape[0] * 0.80):].to_csv(\"archive/dataset_teste.csv\", index = False)\n",
    "df.iloc[int(df.shape[0] * 0.80):].to_csv('archive/dataset_teste.csv.gz'\n",
    "                                         , header=True\n",
    "                                         , index=False\n",
    "                                         , chunksize=100000\n",
    "                                         , compression='gzip'\n",
    "                                         , encoding='utf-8')"
   ]
  },
  {
   "cell_type": "markdown",
   "metadata": {},
   "source": [
    "### Próximo passo - EDA usando o dataset_treino"
   ]
  }
 ],
 "metadata": {
  "kernelspec": {
   "display_name": "Python 3",
   "language": "python",
   "name": "python3"
  },
  "language_info": {
   "codemirror_mode": {
    "name": "ipython",
    "version": 3
   },
   "file_extension": ".py",
   "mimetype": "text/x-python",
   "name": "python",
   "nbconvert_exporter": "python",
   "pygments_lexer": "ipython3",
   "version": "3.7.1"
  }
 },
 "nbformat": 4,
 "nbformat_minor": 4
}
